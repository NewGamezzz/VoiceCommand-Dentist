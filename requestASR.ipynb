{
 "cells": [
  {
   "cell_type": "code",
   "execution_count": 1,
   "metadata": {},
   "outputs": [],
   "source": [
    "import os\n",
    "import librosa\n",
    "import random\n",
    "import pandas as pd\n",
    "import numpy as np\n",
    "from tqdm import tqdm\n",
    "from scipy.io import wavfile\n",
    "from utils.evaluate import edit_distance\n",
    "from utils.utils import cut_audio, segmentAudio, peakLevelAudio, SpectralGate, Speech2TextAPI\n",
    "from utils.agc import AGCModel, Expect, Maximize"
   ]
  },
  {
   "cell_type": "markdown",
   "metadata": {},
   "source": [
    "# Preprocess"
   ]
  },
  {
   "cell_type": "code",
   "execution_count": 2,
   "metadata": {},
   "outputs": [
    {
     "name": "stdout",
     "output_type": "stream",
     "text": [
      "original\n"
     ]
    },
    {
     "name": "stderr",
     "output_type": "stream",
     "text": [
      "Prepare Directory: 100%|██████████| 8/8 [00:00<?, ?it/s]\n"
     ]
    },
    {
     "name": "stdout",
     "output_type": "stream",
     "text": [
      "spectral-gate\n"
     ]
    },
    {
     "name": "stderr",
     "output_type": "stream",
     "text": [
      "Prepare Directory: 100%|██████████| 8/8 [00:00<00:00, 8012.04it/s]\n"
     ]
    },
    {
     "name": "stdout",
     "output_type": "stream",
     "text": [
      "spectral-gate-volume\n"
     ]
    },
    {
     "name": "stderr",
     "output_type": "stream",
     "text": [
      "Prepare Directory: 100%|██████████| 8/8 [00:00<00:00, 7994.86it/s]\n"
     ]
    },
    {
     "name": "stdout",
     "output_type": "stream",
     "text": [
      "spectral-gate-tune\n"
     ]
    },
    {
     "name": "stderr",
     "output_type": "stream",
     "text": [
      "Prepare Directory: 100%|██████████| 8/8 [00:00<00:00, 7996.77it/s]\n"
     ]
    },
    {
     "name": "stdout",
     "output_type": "stream",
     "text": [
      "automatic-gain-control\n"
     ]
    },
    {
     "name": "stderr",
     "output_type": "stream",
     "text": [
      "Prepare Directory: 100%|██████████| 8/8 [00:00<00:00, 7973.96it/s]\n"
     ]
    },
    {
     "name": "stdout",
     "output_type": "stream",
     "text": [
      "agcsg\n"
     ]
    },
    {
     "name": "stderr",
     "output_type": "stream",
     "text": [
      "Prepare Directory: 100%|██████████| 8/8 [00:00<?, ?it/s]\n"
     ]
    },
    {
     "name": "stdout",
     "output_type": "stream",
     "text": [
      "sgagc\n"
     ]
    },
    {
     "name": "stderr",
     "output_type": "stream",
     "text": [
      "Prepare Directory: 100%|██████████| 8/8 [00:00<?, ?it/s]\n"
     ]
    }
   ],
   "source": [
    "filenames = ['test_male1', 'test_male2', 'test_male3',\n",
    "            'test_female1', 'test_female2', 'test_female3',\n",
    "            'voice_command1', 'voice_command1_volume'\n",
    "            # '001_sd', '002_sd'\n",
    "            ]\n",
    "\n",
    "base_path = 'shortAudio' # shortAudio\n",
    "folders = ['original', 'spectral-gate', 'spectral-gate-volume', 'spectral-gate-tune', 'automatic-gain-control', 'agcsg', 'sgagc']\n",
    "for folder in folders:\n",
    "  print(folder)\n",
    "  for fn in tqdm(filenames, desc=\"Prepare Directory\"):\n",
    "    origin_path = os.path.join(base_path, folder)\n",
    "\n",
    "    path = os.path.join(origin_path, fn)\n",
    "    if not os.path.isdir(path):\n",
    "      print(\"Make Directory:\", path)\n",
    "      os.mkdir(path)"
   ]
  },
  {
   "cell_type": "markdown",
   "metadata": {},
   "source": [
    "## Cut audio files"
   ]
  },
  {
   "cell_type": "code",
   "execution_count": 21,
   "metadata": {},
   "outputs": [
    {
     "name": "stdout",
     "output_type": "stream",
     "text": [
      "Audio Filepath: 11-2-22\\test_male1.mp3\n",
      "Length: 34.76897959183673 second\n"
     ]
    },
    {
     "name": "stderr",
     "output_type": "stream",
     "text": [
      "Cutting Process: 100%|██████████| 7/7 [00:00<00:00, 2358.05it/s]\n"
     ]
    },
    {
     "name": "stdout",
     "output_type": "stream",
     "text": [
      "Audio Filepath: 11-2-22\\test_male2.mp3\n",
      "Length: 29.15265306122449 second\n"
     ]
    },
    {
     "name": "stderr",
     "output_type": "stream",
     "text": [
      "Cutting Process: 100%|██████████| 6/6 [00:00<00:00, 1999.19it/s]\n"
     ]
    },
    {
     "name": "stdout",
     "output_type": "stream",
     "text": [
      "Audio Filepath: 11-2-22\\test_male3.mp3\n",
      "Length: 43.12816326530612 second\n"
     ]
    },
    {
     "name": "stderr",
     "output_type": "stream",
     "text": [
      "Cutting Process: 100%|██████████| 9/9 [00:00<00:00, 1801.59it/s]\n"
     ]
    },
    {
     "name": "stdout",
     "output_type": "stream",
     "text": [
      "Audio Filepath: 11-2-22\\test_female1.mp3\n",
      "Length: 39.23591836734694 second\n"
     ]
    },
    {
     "name": "stderr",
     "output_type": "stream",
     "text": [
      "Cutting Process: 100%|██████████| 8/8 [00:00<00:00, 1999.55it/s]\n"
     ]
    },
    {
     "name": "stdout",
     "output_type": "stream",
     "text": [
      "Audio Filepath: 11-2-22\\test_female2.mp3\n",
      "Length: 23.144489795918368 second\n"
     ]
    },
    {
     "name": "stderr",
     "output_type": "stream",
     "text": [
      "Cutting Process: 100%|██████████| 5/5 [00:00<00:00, 1844.95it/s]\n"
     ]
    },
    {
     "name": "stdout",
     "output_type": "stream",
     "text": [
      "Audio Filepath: 11-2-22\\test_female3.mp3\n",
      "Length: 30.14530612244898 second\n"
     ]
    },
    {
     "name": "stderr",
     "output_type": "stream",
     "text": [
      "Cutting Process: 100%|██████████| 7/7 [00:00<00:00, 1749.61it/s]\n"
     ]
    },
    {
     "name": "stdout",
     "output_type": "stream",
     "text": [
      "Audio Filepath: 11-2-22\\voice_command1.mp3\n",
      "Length: 385.72802721088436 second\n"
     ]
    },
    {
     "name": "stderr",
     "output_type": "stream",
     "text": [
      "Cutting Process: 100%|██████████| 78/78 [00:00<00:00, 1813.83it/s]\n"
     ]
    },
    {
     "name": "stdout",
     "output_type": "stream",
     "text": [
      "Audio Filepath: 11-2-22\\voice_command1_volume.mp3\n",
      "Length: 385.72802721088436 second\n"
     ]
    },
    {
     "name": "stderr",
     "output_type": "stream",
     "text": [
      "Cutting Process: 100%|██████████| 78/78 [00:00<00:00, 1444.43it/s]\n"
     ]
    }
   ],
   "source": [
    "second = 5\n",
    "for fn in filenames:\n",
    "  audio_path = os.path.join('11-2-22', fn + '.mp3')\n",
    "  output_path = os.path.join(os.path.join('shortAudio', 'original'), fn)\n",
    "  output_file = cut_audio(audio_path, output_path, second)\n",
    "\n",
    "  # for out_f in output_file:\n",
    "  #   output_path = os.path.join(os.path.join('shortAudio', 'spectral-gate'), fn)\n",
    "  #   SpectralGate(out_f, output_path)"
   ]
  },
  {
   "cell_type": "markdown",
   "metadata": {},
   "source": [
    "## Spectral Gating"
   ]
  },
  {
   "cell_type": "code",
   "execution_count": 61,
   "metadata": {},
   "outputs": [],
   "source": [
    "for fn in filenames:\n",
    "  origin_path = os.path.join(os.path.join('shortAudio', 'original'), fn)\n",
    "  origin_filenames = np.array(os.listdir(origin_path))\n",
    "  mask = np.argsort(np.array(list(map(lambda x: int(x.split('_')[-1][:-4]), origin_filenames))))\n",
    "\n",
    "  for origin_f in origin_filenames[mask]:\n",
    "    audio_path = os.path.join(origin_path, origin_f)\n",
    "    output_path = os.path.join(os.path.join('shortAudio', 'spectral-gate'), fn)\n",
    "    SpectralGate(audio_path, output_path)"
   ]
  },
  {
   "cell_type": "markdown",
   "metadata": {},
   "source": [
    "## Spectral Gating With Increasing Volume"
   ]
  },
  {
   "cell_type": "code",
   "execution_count": 62,
   "metadata": {},
   "outputs": [],
   "source": [
    "for fn in filenames:\n",
    "  origin_path = os.path.join(os.path.join('shortAudio', 'original'), fn)\n",
    "  origin_filenames = np.array(os.listdir(origin_path))\n",
    "  mask = np.argsort(np.array(list(map(lambda x: int(x.split('_')[-1][:-4]), origin_filenames))))\n",
    "\n",
    "  for origin_f in origin_filenames[mask]:\n",
    "    audio_path = os.path.join(origin_path, origin_f)\n",
    "    output_path = os.path.join(os.path.join('shortAudio', 'spectral-gate-volume'), fn)\n",
    "    SpectralGate(audio_path, output_path, increase_volume=True)"
   ]
  },
  {
   "cell_type": "markdown",
   "metadata": {},
   "source": [
    "## Automatic Gain Control"
   ]
  },
  {
   "cell_type": "code",
   "execution_count": 63,
   "metadata": {},
   "outputs": [],
   "source": [
    "for fn in filenames:\n",
    "  origin_path = os.path.join(os.path.join('shortAudio', 'original'), fn)\n",
    "  origin_filenames = np.array(os.listdir(origin_path))\n",
    "  mask = np.argsort(np.array(list(map(lambda x: int(x.split('_')[-1][:-4]), origin_filenames))))\n",
    "  model = AGCModel(Expect(), Maximize())\n",
    "  for origin_f in origin_filenames[mask]:\n",
    "    audio_path = os.path.join(origin_path, origin_f)\n",
    "    audio, sr = librosa.load(audio_path)\n",
    "    audio_li = segmentAudio(audio, sr, 0.1)\n",
    "    l = peakLevelAudio(audio, sr, 0.1)\n",
    "    if model.mu is None or model.sigma is None:\n",
    "      model.init_param(np.abs(audio))\n",
    "    gain = model.run(l)\n",
    "    up_scale_audio_li = model.scaleUp(gain, audio_li)\n",
    "    output_path = os.path.join(os.path.join('shortAudio', 'automatic-gain-control'), fn)\n",
    "    output_path = os.path.join(output_path, origin_f)\n",
    "    wavfile.write(output_path, sr, np.concatenate(up_scale_audio_li).astype('f4'))"
   ]
  },
  {
   "cell_type": "markdown",
   "metadata": {},
   "source": [
    "## Automatic Gain Control After Spectal Gating (agcsg)"
   ]
  },
  {
   "cell_type": "code",
   "execution_count": 67,
   "metadata": {},
   "outputs": [],
   "source": [
    "for fn in filenames:\n",
    "  origin_path = os.path.join(os.path.join('shortAudio', 'spectral-gate-tune'), fn)\n",
    "  audio_original_basepath = os.path.join(os.path.join('shortAudio', 'original'), fn)\n",
    "  origin_filenames = np.array(os.listdir(origin_path))\n",
    "  mask = np.argsort(np.array(list(map(lambda x: int(x.split('_')[-1][:-4]), origin_filenames))))\n",
    "  model = AGCModel(Expect(), Maximize())\n",
    "  for origin_f in origin_filenames[mask]:\n",
    "    audio_original_path = os.path.join(audio_original_basepath, origin_f)\n",
    "    audio_spectral_path = os.path.join(origin_path, origin_f)\n",
    "    audio_original, sr_original = librosa.load(audio_original_path)\n",
    "    audio_spectral, sr_spectral = librosa.load(audio_spectral_path)\n",
    "\n",
    "    audio_original_li = segmentAudio(audio_original, sr_original, 0.1)\n",
    "    l_original = peakLevelAudio(audio_original, sr_original, 0.1)\n",
    "    audio_spectral_li = segmentAudio(audio_spectral, sr_spectral, 0.1)\n",
    "    # l = peakLevelAudio(audio, sr, 0.1)\n",
    "    if model.mu is None or model.sigma is None:\n",
    "      model.init_param(np.abs(audio_original))\n",
    "    gain = model.run(l_original)\n",
    "    up_scale_audio_li = model.scaleUp(gain, audio_spectral_li)\n",
    "    output_path = os.path.join(os.path.join('shortAudio', 'agcsg'), fn)\n",
    "    output_path = os.path.join(output_path, origin_f)\n",
    "    wavfile.write(output_path, sr_spectral, np.concatenate(up_scale_audio_li).astype('f4'))"
   ]
  },
  {
   "cell_type": "markdown",
   "metadata": {},
   "source": [
    "## Spectral Gating After Automatic Gain Control (sgagc)"
   ]
  },
  {
   "cell_type": "code",
   "execution_count": 65,
   "metadata": {},
   "outputs": [],
   "source": [
    "for fn in filenames:\n",
    "  origin_path = os.path.join(os.path.join('shortAudio', 'automatic-gain-control'), fn)\n",
    "  origin_filenames = np.array(os.listdir(origin_path))\n",
    "  mask = np.argsort(np.array(list(map(lambda x: int(x.split('_')[-1][:-4]), origin_filenames))))\n",
    "  for origin_f in origin_filenames[mask]:\n",
    "    audio_path = os.path.join(origin_path, origin_f)\n",
    "    output_path = os.path.join(os.path.join('shortAudio', 'sgagc'), fn)\n",
    "    SpectralGate(audio_path, output_path, increase_volume=False)"
   ]
  },
  {
   "cell_type": "markdown",
   "metadata": {},
   "source": [
    "## Concate Short Audio to a long one"
   ]
  },
  {
   "cell_type": "code",
   "execution_count": 20,
   "metadata": {},
   "outputs": [],
   "source": [
    "audio_li = []\n",
    "base_path = 'shortAudio/original/voice_command1_volume'\n",
    "filenames = np.array(os.listdir(base_path))\n",
    "mask = np.argsort(np.array(list(map(lambda x: int(x.split('_')[-1][:-4]), filenames))))\n",
    "for fn in filenames[mask]:\n",
    "  audio, sr = librosa.load(os.path.join(base_path, fn))\n",
    "  audio_li.append(audio)\n",
    "new_audio = np.concatenate(audio_li)"
   ]
  },
  {
   "cell_type": "code",
   "execution_count": 21,
   "metadata": {},
   "outputs": [],
   "source": [
    "wavfile.write('original_voice_command.mp3', sr, new_audio.astype('f4'))"
   ]
  },
  {
   "cell_type": "markdown",
   "metadata": {},
   "source": [
    "# API"
   ]
  },
  {
   "cell_type": "markdown",
   "metadata": {},
   "source": [
    "## Send Single Request"
   ]
  },
  {
   "cell_type": "code",
   "execution_count": 22,
   "metadata": {},
   "outputs": [
    {
     "name": "stdout",
     "output_type": "stream",
     "text": [
      "Original: ห้าลบหนึ่งสามสี่หนึ่ง\n",
      "Reduce Noise: ห้าลบหนึ่งสามสี่หนึ่ง\n"
     ]
    }
   ],
   "source": [
    "filename = 'test_male1'\n",
    "idx = 3\n",
    "base_data = {\n",
    "    \"audioData\":None,\n",
    "    \"decoder_type\": \"BeamSearch\",\n",
    "    \"get_word_timestamps\": True,\n",
    "    \"word_list\": [\"ซี่\"]\n",
    "}\n",
    "\n",
    "mode = 'original'\n",
    "filepath = f'shortAudio/{mode}/{filename}/{filename}_{idx}.wav'\n",
    "original_response = Speech2TextAPI(filepath, base_data=base_data)\n",
    "print(\"Original:\", original_response['results'][0]['transcript'])\n",
    "\n",
    "mode = 'spectral-gate-volume'\n",
    "filepath = f'shortAudio/{mode}/{filename}/{filename}_{idx}.wav'\n",
    "reduced_response = Speech2TextAPI(filepath, base_data=base_data)\n",
    "print(\"Reduce Noise:\", reduced_response['results'][0]['transcript'])"
   ]
  },
  {
   "cell_type": "markdown",
   "metadata": {},
   "source": [
    "## Send Multiple Request"
   ]
  },
  {
   "cell_type": "code",
   "execution_count": 2,
   "metadata": {},
   "outputs": [
    {
     "name": "stdout",
     "output_type": "stream",
     "text": [
      "agcsg\n"
     ]
    },
    {
     "name": "stderr",
     "output_type": "stream",
     "text": [
      "100%|██████████| 7/7 [00:10<00:00,  1.46s/it]\n"
     ]
    },
    {
     "name": "stdout",
     "output_type": "stream",
     "text": [
      "predicted/agcsg/test_male1.csv\n",
      "\n"
     ]
    },
    {
     "name": "stderr",
     "output_type": "stream",
     "text": [
      "100%|██████████| 6/6 [00:08<00:00,  1.38s/it]\n"
     ]
    },
    {
     "name": "stdout",
     "output_type": "stream",
     "text": [
      "predicted/agcsg/test_male2.csv\n",
      "\n"
     ]
    },
    {
     "name": "stderr",
     "output_type": "stream",
     "text": [
      "100%|██████████| 9/9 [00:24<00:00,  2.77s/it]\n"
     ]
    },
    {
     "name": "stdout",
     "output_type": "stream",
     "text": [
      "predicted/agcsg/test_male3.csv\n",
      "\n"
     ]
    },
    {
     "name": "stderr",
     "output_type": "stream",
     "text": [
      "100%|██████████| 8/8 [00:11<00:00,  1.39s/it]\n"
     ]
    },
    {
     "name": "stdout",
     "output_type": "stream",
     "text": [
      "predicted/agcsg/test_female1.csv\n",
      "\n"
     ]
    },
    {
     "name": "stderr",
     "output_type": "stream",
     "text": [
      "100%|██████████| 5/5 [00:06<00:00,  1.34s/it]\n"
     ]
    },
    {
     "name": "stdout",
     "output_type": "stream",
     "text": [
      "predicted/agcsg/test_female2.csv\n",
      "\n"
     ]
    },
    {
     "name": "stderr",
     "output_type": "stream",
     "text": [
      "100%|██████████| 7/7 [00:12<00:00,  1.77s/it]\n"
     ]
    },
    {
     "name": "stdout",
     "output_type": "stream",
     "text": [
      "predicted/agcsg/test_female3.csv\n",
      "\n"
     ]
    },
    {
     "name": "stderr",
     "output_type": "stream",
     "text": [
      "100%|██████████| 78/78 [02:32<00:00,  1.96s/it]\n"
     ]
    },
    {
     "name": "stdout",
     "output_type": "stream",
     "text": [
      "predicted/agcsg/voice_command1.csv\n",
      "\n"
     ]
    },
    {
     "name": "stderr",
     "output_type": "stream",
     "text": [
      "100%|██████████| 78/78 [02:15<00:00,  1.73s/it]\n"
     ]
    },
    {
     "name": "stdout",
     "output_type": "stream",
     "text": [
      "predicted/agcsg/voice_command1_volume.csv\n",
      "\n",
      "automatic-gain-control\n"
     ]
    },
    {
     "name": "stderr",
     "output_type": "stream",
     "text": [
      "100%|██████████| 7/7 [00:11<00:00,  1.60s/it]\n"
     ]
    },
    {
     "name": "stdout",
     "output_type": "stream",
     "text": [
      "predicted/automatic-gain-control/test_male1.csv\n",
      "\n"
     ]
    },
    {
     "name": "stderr",
     "output_type": "stream",
     "text": [
      "100%|██████████| 6/6 [00:12<00:00,  2.00s/it]\n"
     ]
    },
    {
     "name": "stdout",
     "output_type": "stream",
     "text": [
      "predicted/automatic-gain-control/test_male2.csv\n",
      "\n"
     ]
    },
    {
     "name": "stderr",
     "output_type": "stream",
     "text": [
      "100%|██████████| 9/9 [00:23<00:00,  2.58s/it]\n"
     ]
    },
    {
     "name": "stdout",
     "output_type": "stream",
     "text": [
      "predicted/automatic-gain-control/test_male3.csv\n",
      "\n"
     ]
    },
    {
     "name": "stderr",
     "output_type": "stream",
     "text": [
      "100%|██████████| 8/8 [00:12<00:00,  1.52s/it]\n"
     ]
    },
    {
     "name": "stdout",
     "output_type": "stream",
     "text": [
      "predicted/automatic-gain-control/test_female1.csv\n",
      "\n"
     ]
    },
    {
     "name": "stderr",
     "output_type": "stream",
     "text": [
      "100%|██████████| 5/5 [00:07<00:00,  1.40s/it]\n"
     ]
    },
    {
     "name": "stdout",
     "output_type": "stream",
     "text": [
      "predicted/automatic-gain-control/test_female2.csv\n",
      "\n"
     ]
    },
    {
     "name": "stderr",
     "output_type": "stream",
     "text": [
      "100%|██████████| 7/7 [00:14<00:00,  2.13s/it]\n"
     ]
    },
    {
     "name": "stdout",
     "output_type": "stream",
     "text": [
      "predicted/automatic-gain-control/test_female3.csv\n",
      "\n"
     ]
    },
    {
     "name": "stderr",
     "output_type": "stream",
     "text": [
      "100%|██████████| 78/78 [02:30<00:00,  1.93s/it]\n"
     ]
    },
    {
     "name": "stdout",
     "output_type": "stream",
     "text": [
      "predicted/automatic-gain-control/voice_command1.csv\n",
      "\n"
     ]
    },
    {
     "name": "stderr",
     "output_type": "stream",
     "text": [
      "100%|██████████| 78/78 [02:15<00:00,  1.74s/it]\n"
     ]
    },
    {
     "name": "stdout",
     "output_type": "stream",
     "text": [
      "predicted/automatic-gain-control/voice_command1_volume.csv\n",
      "\n",
      "original\n"
     ]
    },
    {
     "name": "stderr",
     "output_type": "stream",
     "text": [
      "100%|██████████| 7/7 [00:13<00:00,  2.00s/it]\n"
     ]
    },
    {
     "name": "stdout",
     "output_type": "stream",
     "text": [
      "predicted/original/test_male1.csv\n",
      "\n"
     ]
    },
    {
     "name": "stderr",
     "output_type": "stream",
     "text": [
      "100%|██████████| 6/6 [00:14<00:00,  2.50s/it]\n"
     ]
    },
    {
     "name": "stdout",
     "output_type": "stream",
     "text": [
      "predicted/original/test_male2.csv\n",
      "\n"
     ]
    },
    {
     "name": "stderr",
     "output_type": "stream",
     "text": [
      "100%|██████████| 9/9 [00:14<00:00,  1.63s/it]\n"
     ]
    },
    {
     "name": "stdout",
     "output_type": "stream",
     "text": [
      "predicted/original/test_male3.csv\n",
      "\n"
     ]
    },
    {
     "name": "stderr",
     "output_type": "stream",
     "text": [
      "100%|██████████| 8/8 [00:11<00:00,  1.39s/it]\n"
     ]
    },
    {
     "name": "stdout",
     "output_type": "stream",
     "text": [
      "predicted/original/test_female1.csv\n",
      "\n"
     ]
    },
    {
     "name": "stderr",
     "output_type": "stream",
     "text": [
      "100%|██████████| 5/5 [00:08<00:00,  1.69s/it]\n"
     ]
    },
    {
     "name": "stdout",
     "output_type": "stream",
     "text": [
      "predicted/original/test_female2.csv\n",
      "\n"
     ]
    },
    {
     "name": "stderr",
     "output_type": "stream",
     "text": [
      "100%|██████████| 7/7 [00:16<00:00,  2.38s/it]\n"
     ]
    },
    {
     "name": "stdout",
     "output_type": "stream",
     "text": [
      "predicted/original/test_female3.csv\n",
      "\n"
     ]
    },
    {
     "name": "stderr",
     "output_type": "stream",
     "text": [
      "100%|██████████| 78/78 [02:19<00:00,  1.79s/it]\n"
     ]
    },
    {
     "name": "stdout",
     "output_type": "stream",
     "text": [
      "predicted/original/voice_command1.csv\n",
      "\n"
     ]
    },
    {
     "name": "stderr",
     "output_type": "stream",
     "text": [
      "100%|██████████| 78/78 [02:11<00:00,  1.69s/it]\n"
     ]
    },
    {
     "name": "stdout",
     "output_type": "stream",
     "text": [
      "predicted/original/voice_command1_volume.csv\n",
      "\n",
      "sgagc\n"
     ]
    },
    {
     "name": "stderr",
     "output_type": "stream",
     "text": [
      "100%|██████████| 7/7 [00:09<00:00,  1.36s/it]\n"
     ]
    },
    {
     "name": "stdout",
     "output_type": "stream",
     "text": [
      "predicted/sgagc/test_male1.csv\n",
      "\n"
     ]
    },
    {
     "name": "stderr",
     "output_type": "stream",
     "text": [
      "100%|██████████| 6/6 [00:15<00:00,  2.66s/it]\n"
     ]
    },
    {
     "name": "stdout",
     "output_type": "stream",
     "text": [
      "predicted/sgagc/test_male2.csv\n",
      "\n"
     ]
    },
    {
     "name": "stderr",
     "output_type": "stream",
     "text": [
      "100%|██████████| 9/9 [00:18<00:00,  2.11s/it]\n"
     ]
    },
    {
     "name": "stdout",
     "output_type": "stream",
     "text": [
      "predicted/sgagc/test_male3.csv\n",
      "\n"
     ]
    },
    {
     "name": "stderr",
     "output_type": "stream",
     "text": [
      "100%|██████████| 8/8 [00:11<00:00,  1.38s/it]\n"
     ]
    },
    {
     "name": "stdout",
     "output_type": "stream",
     "text": [
      "predicted/sgagc/test_female1.csv\n",
      "\n"
     ]
    },
    {
     "name": "stderr",
     "output_type": "stream",
     "text": [
      "100%|██████████| 5/5 [00:06<00:00,  1.32s/it]\n"
     ]
    },
    {
     "name": "stdout",
     "output_type": "stream",
     "text": [
      "predicted/sgagc/test_female2.csv\n",
      "\n"
     ]
    },
    {
     "name": "stderr",
     "output_type": "stream",
     "text": [
      "100%|██████████| 7/7 [00:10<00:00,  1.48s/it]\n"
     ]
    },
    {
     "name": "stdout",
     "output_type": "stream",
     "text": [
      "predicted/sgagc/test_female3.csv\n",
      "\n"
     ]
    },
    {
     "name": "stderr",
     "output_type": "stream",
     "text": [
      "100%|██████████| 78/78 [02:27<00:00,  1.89s/it]\n"
     ]
    },
    {
     "name": "stdout",
     "output_type": "stream",
     "text": [
      "predicted/sgagc/voice_command1.csv\n",
      "\n"
     ]
    },
    {
     "name": "stderr",
     "output_type": "stream",
     "text": [
      "100%|██████████| 78/78 [02:17<00:00,  1.76s/it]\n"
     ]
    },
    {
     "name": "stdout",
     "output_type": "stream",
     "text": [
      "predicted/sgagc/voice_command1_volume.csv\n",
      "\n",
      "spectral-gate\n"
     ]
    },
    {
     "name": "stderr",
     "output_type": "stream",
     "text": [
      "100%|██████████| 7/7 [00:09<00:00,  1.39s/it]\n"
     ]
    },
    {
     "name": "stdout",
     "output_type": "stream",
     "text": [
      "predicted/spectral-gate/test_male1.csv\n",
      "\n"
     ]
    },
    {
     "name": "stderr",
     "output_type": "stream",
     "text": [
      "100%|██████████| 6/6 [00:10<00:00,  1.76s/it]\n"
     ]
    },
    {
     "name": "stdout",
     "output_type": "stream",
     "text": [
      "predicted/spectral-gate/test_male2.csv\n",
      "\n"
     ]
    },
    {
     "name": "stderr",
     "output_type": "stream",
     "text": [
      "100%|██████████| 9/9 [00:25<00:00,  2.80s/it]\n"
     ]
    },
    {
     "name": "stdout",
     "output_type": "stream",
     "text": [
      "predicted/spectral-gate/test_male3.csv\n",
      "\n"
     ]
    },
    {
     "name": "stderr",
     "output_type": "stream",
     "text": [
      "100%|██████████| 8/8 [00:12<00:00,  1.52s/it]\n"
     ]
    },
    {
     "name": "stdout",
     "output_type": "stream",
     "text": [
      "predicted/spectral-gate/test_female1.csv\n",
      "\n"
     ]
    },
    {
     "name": "stderr",
     "output_type": "stream",
     "text": [
      "100%|██████████| 5/5 [00:06<00:00,  1.36s/it]\n"
     ]
    },
    {
     "name": "stdout",
     "output_type": "stream",
     "text": [
      "predicted/spectral-gate/test_female2.csv\n",
      "\n"
     ]
    },
    {
     "name": "stderr",
     "output_type": "stream",
     "text": [
      "100%|██████████| 7/7 [00:09<00:00,  1.30s/it]\n"
     ]
    },
    {
     "name": "stdout",
     "output_type": "stream",
     "text": [
      "predicted/spectral-gate/test_female3.csv\n",
      "\n"
     ]
    },
    {
     "name": "stderr",
     "output_type": "stream",
     "text": [
      "100%|██████████| 78/78 [02:07<00:00,  1.64s/it]\n"
     ]
    },
    {
     "name": "stdout",
     "output_type": "stream",
     "text": [
      "predicted/spectral-gate/voice_command1.csv\n",
      "\n"
     ]
    },
    {
     "name": "stderr",
     "output_type": "stream",
     "text": [
      "100%|██████████| 78/78 [02:33<00:00,  1.97s/it]\n"
     ]
    },
    {
     "name": "stdout",
     "output_type": "stream",
     "text": [
      "predicted/spectral-gate/voice_command1_volume.csv\n",
      "\n",
      "spectral-gate-volume\n"
     ]
    },
    {
     "name": "stderr",
     "output_type": "stream",
     "text": [
      "100%|██████████| 7/7 [00:09<00:00,  1.38s/it]\n"
     ]
    },
    {
     "name": "stdout",
     "output_type": "stream",
     "text": [
      "predicted/spectral-gate-volume/test_male1.csv\n",
      "\n"
     ]
    },
    {
     "name": "stderr",
     "output_type": "stream",
     "text": [
      "100%|██████████| 6/6 [00:08<00:00,  1.45s/it]\n"
     ]
    },
    {
     "name": "stdout",
     "output_type": "stream",
     "text": [
      "predicted/spectral-gate-volume/test_male2.csv\n",
      "\n"
     ]
    },
    {
     "name": "stderr",
     "output_type": "stream",
     "text": [
      "100%|██████████| 9/9 [00:22<00:00,  2.55s/it]\n"
     ]
    },
    {
     "name": "stdout",
     "output_type": "stream",
     "text": [
      "predicted/spectral-gate-volume/test_male3.csv\n",
      "\n"
     ]
    },
    {
     "name": "stderr",
     "output_type": "stream",
     "text": [
      "100%|██████████| 8/8 [00:18<00:00,  2.31s/it]\n"
     ]
    },
    {
     "name": "stdout",
     "output_type": "stream",
     "text": [
      "predicted/spectral-gate-volume/test_female1.csv\n",
      "\n"
     ]
    },
    {
     "name": "stderr",
     "output_type": "stream",
     "text": [
      "100%|██████████| 5/5 [00:07<00:00,  1.42s/it]\n"
     ]
    },
    {
     "name": "stdout",
     "output_type": "stream",
     "text": [
      "predicted/spectral-gate-volume/test_female2.csv\n",
      "\n"
     ]
    },
    {
     "name": "stderr",
     "output_type": "stream",
     "text": [
      "100%|██████████| 7/7 [00:09<00:00,  1.30s/it]\n"
     ]
    },
    {
     "name": "stdout",
     "output_type": "stream",
     "text": [
      "predicted/spectral-gate-volume/test_female3.csv\n",
      "\n"
     ]
    },
    {
     "name": "stderr",
     "output_type": "stream",
     "text": [
      "100%|██████████| 78/78 [02:36<00:00,  2.01s/it]\n"
     ]
    },
    {
     "name": "stdout",
     "output_type": "stream",
     "text": [
      "predicted/spectral-gate-volume/voice_command1.csv\n",
      "\n"
     ]
    },
    {
     "name": "stderr",
     "output_type": "stream",
     "text": [
      "100%|██████████| 78/78 [02:17<00:00,  1.76s/it]\n"
     ]
    },
    {
     "name": "stdout",
     "output_type": "stream",
     "text": [
      "predicted/spectral-gate-volume/voice_command1_volume.csv\n",
      "\n",
      "spectral-gate-tune\n"
     ]
    },
    {
     "name": "stderr",
     "output_type": "stream",
     "text": [
      "100%|██████████| 7/7 [00:09<00:00,  1.41s/it]\n"
     ]
    },
    {
     "name": "stdout",
     "output_type": "stream",
     "text": [
      "predicted/spectral-gate-tune/test_male1.csv\n",
      "\n"
     ]
    },
    {
     "name": "stderr",
     "output_type": "stream",
     "text": [
      "100%|██████████| 6/6 [00:11<00:00,  1.95s/it]\n"
     ]
    },
    {
     "name": "stdout",
     "output_type": "stream",
     "text": [
      "predicted/spectral-gate-tune/test_male2.csv\n",
      "\n"
     ]
    },
    {
     "name": "stderr",
     "output_type": "stream",
     "text": [
      "100%|██████████| 9/9 [00:23<00:00,  2.60s/it]\n"
     ]
    },
    {
     "name": "stdout",
     "output_type": "stream",
     "text": [
      "predicted/spectral-gate-tune/test_male3.csv\n",
      "\n"
     ]
    },
    {
     "name": "stderr",
     "output_type": "stream",
     "text": [
      "100%|██████████| 8/8 [00:11<00:00,  1.44s/it]\n"
     ]
    },
    {
     "name": "stdout",
     "output_type": "stream",
     "text": [
      "predicted/spectral-gate-tune/test_female1.csv\n",
      "\n"
     ]
    },
    {
     "name": "stderr",
     "output_type": "stream",
     "text": [
      "100%|██████████| 5/5 [00:06<00:00,  1.39s/it]\n"
     ]
    },
    {
     "name": "stdout",
     "output_type": "stream",
     "text": [
      "predicted/spectral-gate-tune/test_female2.csv\n",
      "\n"
     ]
    },
    {
     "name": "stderr",
     "output_type": "stream",
     "text": [
      "100%|██████████| 7/7 [00:12<00:00,  1.73s/it]\n"
     ]
    },
    {
     "name": "stdout",
     "output_type": "stream",
     "text": [
      "predicted/spectral-gate-tune/test_female3.csv\n",
      "\n"
     ]
    },
    {
     "name": "stderr",
     "output_type": "stream",
     "text": [
      "100%|██████████| 78/78 [02:26<00:00,  1.87s/it]\n"
     ]
    },
    {
     "name": "stdout",
     "output_type": "stream",
     "text": [
      "predicted/spectral-gate-tune/voice_command1.csv\n",
      "\n"
     ]
    },
    {
     "name": "stderr",
     "output_type": "stream",
     "text": [
      "100%|██████████| 78/78 [02:21<00:00,  1.81s/it]"
     ]
    },
    {
     "name": "stdout",
     "output_type": "stream",
     "text": [
      "predicted/spectral-gate-tune/voice_command1_volume.csv\n",
      "\n"
     ]
    },
    {
     "name": "stderr",
     "output_type": "stream",
     "text": [
      "\n"
     ]
    }
   ],
   "source": [
    "base_data = {\n",
    "    \"audioData\":None,\n",
    "    \"decoder_type\": \"BeamSearch\",\n",
    "    \"get_word_timestamps\": True,\n",
    "    # \"word_list\": [\"ซี่\"]\n",
    "}\n",
    "\n",
    "modes = ['agcsg', 'automatic-gain-control', 'original', 'sgagc', 'spectral-gate', 'spectral-gate-volume', 'spectral-gate-tune']\n",
    "# idx = 3\n",
    "for idx in range(7):\n",
    "    mode = modes[idx]\n",
    "    print(mode)\n",
    "    filenames =  ['test_male1', 'test_male2', 'test_male3', 'test_female1', 'test_female2', 'test_female3', 'voice_command1', 'voice_command1_volume'] # ['voice_command1_volume']\n",
    "    for f in filenames:\n",
    "        basepath = f'shortAudio/{mode}/{f}'\n",
    "        predicted = []\n",
    "        ff = np.array(os.listdir(basepath))\n",
    "        mask = np.argsort(np.array(list(map(lambda x: int(x.split('_')[-1][:-4]), ff))))\n",
    "        for fn in tqdm(ff[mask]):\n",
    "            filepath = os.path.join(basepath, fn)\n",
    "            # print(filepath)\n",
    "            try:\n",
    "                response = Speech2TextAPI(filepath, base_data=base_data)\n",
    "                text = ''.join(list(map(lambda x: x['transcript'], response['results'])))\n",
    "            except:\n",
    "                text = 'Internal Server Error: 0'\n",
    "            predicted.append(text)\n",
    "            # print(\"Predict:\", text)\n",
    "        df_label = pd.read_csv(f'label/{f}.csv')\n",
    "        data = {'Label': df_label['Label'], 'Predicted': predicted}\n",
    "        df = pd.DataFrame(data)\n",
    "        df.to_csv(f'predicted/{mode}/{f}.csv', index=False)\n",
    "        print(f'predicted/{mode}/{f}.csv')\n",
    "        print()"
   ]
  },
  {
   "cell_type": "markdown",
   "metadata": {},
   "source": [
    "# Evaluate"
   ]
  },
  {
   "cell_type": "markdown",
   "metadata": {},
   "source": [
    "## New"
   ]
  },
  {
   "cell_type": "code",
   "execution_count": 22,
   "metadata": {},
   "outputs": [],
   "source": [
    "basepath = 'predicted'\n",
    "folder = ['original', 'spectral-gate', 'spectral-gate-volume', 'spectral-gate-tune', 'automatic-gain-control', 'agcsg', 'sgagc']\n",
    "edit_df = []\n",
    "\n",
    "for f in folder:\n",
    "  path = os.path.join(basepath, f)\n",
    "  # filenames = ['test_male1.csv', 'test_male2.csv', 'test_male3.csv', 'test_female1.csv', 'test_female2.csv', 'test_female3.csv']\n",
    "  filenames = ['voice_command1.csv'] # os.listdir(path)\n",
    "  li = []\n",
    "  for fn in filenames:\n",
    "    # print(fn)\n",
    "    filepath = os.path.join(path, fn)\n",
    "    df = pd.read_csv(filepath)\n",
    "    # display(df)\n",
    "    mask = df['Predicted'] == 'Internal Server Error: 0'\n",
    "    df = df[~mask]\n",
    "    df['Edit Distance'] = df.apply(lambda x: edit_distance(x['Label'], x['Predicted']), axis=1) \n",
    "    if fn == 'test_female1.csv':\n",
    "      try:\n",
    "        df = df.drop(labels=[0, 1], axis=0)\n",
    "      except:\n",
    "        pass\n",
    "    elif fn == 'test_male3.csv':\n",
    "      try:\n",
    "        df = df.drop(labels=[0], axis=0)\n",
    "      except:\n",
    "        pass\n",
    "    li.append(df)\n",
    "  df = pd.concat(li, keys=filenames)\n",
    "  edit_df.append(df)"
   ]
  },
  {
   "cell_type": "code",
   "execution_count": 23,
   "metadata": {},
   "outputs": [
    {
     "name": "stdout",
     "output_type": "stream",
     "text": [
      "Edit Distance of original: 8.06 +- 4.95\n",
      "\n",
      "Edit Distance of spectral-gate: 9.61 +- 4.3\n",
      "\n",
      "Edit Distance of spectral-gate-volume: 5.29 +- 5.27\n",
      "\n",
      "Edit Distance of spectral-gate-tune: 1.99 +- 4.3\n",
      "\n",
      "Edit Distance of automatic-gain-control: 2.57 +- 4.3\n",
      "\n",
      "Edit Distance of agcsg: 2.43 +- 4.14\n",
      "\n",
      "Edit Distance of sgagc: 2.25 +- 4.17\n",
      "\n"
     ]
    }
   ],
   "source": [
    "for idx, mode in enumerate(folder):\n",
    "  print(f\"Edit Distance of {mode}:\", round(edit_df[idx]['Edit Distance'].mean(), 2), '+-', round(edit_df[idx]['Edit Distance'].std(), 2))\n",
    "  print()"
   ]
  },
  {
   "cell_type": "markdown",
   "metadata": {},
   "source": [
    "## Old"
   ]
  },
  {
   "cell_type": "code",
   "execution_count": 28,
   "metadata": {},
   "outputs": [
    {
     "name": "stdout",
     "output_type": "stream",
     "text": [
      "test_male_1.csv\n",
      "test_male_2.csv\n",
      "test_male_3.csv\n",
      "test_female_1.csv\n",
      "test_female_2.csv\n",
      "test_female_3.csv\n"
     ]
    }
   ],
   "source": [
    "basepath = 'label'\n",
    "folder = ['male', 'female']\n",
    "edit_df = []\n",
    "\n",
    "for f in folder:\n",
    "  path = os.path.join(basepath, f)\n",
    "  filenames = os.listdir(path)\n",
    "  li = []\n",
    "  for fn in filenames:\n",
    "    print(fn)\n",
    "    filepath = os.path.join(path, fn)\n",
    "    df = pd.read_csv(filepath)\n",
    "    mask = np.logical_or(df['Speech-To-Text (Original)'] == 'Internal Server Error:0', \n",
    "                          df['Speech-To-Text (Reduce Noise)'] == 'Internal Server Error:0').values\n",
    "    df = df[~mask]\n",
    "    df['Edit Distance (Original)'] = df.apply(lambda x: edit_distance(x['Label'], x['Speech-To-Text (Original)']), axis=1) \n",
    "    df['Edit Distance (Reduce Noise)'] = df.apply(lambda x: edit_distance(x['Label'], x['Speech-To-Text (Reduce Noise)']), axis=1)\n",
    "    li.append(df)\n",
    "  df = pd.concat(li, keys=filenames)\n",
    "  edit_df.append(df)"
   ]
  },
  {
   "cell_type": "markdown",
   "metadata": {},
   "source": [
    "### Male"
   ]
  },
  {
   "cell_type": "code",
   "execution_count": 42,
   "metadata": {},
   "outputs": [
    {
     "data": {
      "text/html": [
       "<div>\n",
       "<style scoped>\n",
       "    .dataframe tbody tr th:only-of-type {\n",
       "        vertical-align: middle;\n",
       "    }\n",
       "\n",
       "    .dataframe tbody tr th {\n",
       "        vertical-align: top;\n",
       "    }\n",
       "\n",
       "    .dataframe thead th {\n",
       "        text-align: right;\n",
       "    }\n",
       "</style>\n",
       "<table border=\"1\" class=\"dataframe\">\n",
       "  <thead>\n",
       "    <tr style=\"text-align: right;\">\n",
       "      <th></th>\n",
       "      <th></th>\n",
       "      <th>Time</th>\n",
       "      <th>Label</th>\n",
       "      <th>Speech-To-Text (Original)</th>\n",
       "      <th>Speech-To-Text (Reduce Noise)</th>\n",
       "      <th>Edit Distance (Original)</th>\n",
       "      <th>Edit Distance (Reduce Noise)</th>\n",
       "    </tr>\n",
       "  </thead>\n",
       "  <tbody>\n",
       "    <tr>\n",
       "      <th rowspan=\"4\" valign=\"top\">test_male_1.csv</th>\n",
       "      <th>0</th>\n",
       "      <td>0:00 - 0:10</td>\n",
       "      <td>ซี่หนึ่งเจ็ด ลบหนึ่งสาม ลบสองสี่ ลบหนึ่งห้า ซี่</td>\n",
       "      <td>Cี่หนึ่งเจ็ด ลบหนึ่งสาม ลบสองสี่ ลบหนึ่งห้า สี...</td>\n",
       "      <td>ซี่หนึ่งเจ็ด ลบหนึ่งสาม ลบสองสี่ ลบหนึ่งห้า สิน</td>\n",
       "      <td>7.0</td>\n",
       "      <td>3.0</td>\n",
       "    </tr>\n",
       "    <tr>\n",
       "      <th>1</th>\n",
       "      <td>0:10 - 0:20</td>\n",
       "      <td>หนึ่งหก ลบหนึ่งสี่ ลบสองห้า ลบหนึ่งสาม ซี่หนึ่ง</td>\n",
       "      <td>หนึ่งหก ลบหนึ่งสี่ ลบสองห้า ลบหนึ่งสาม สี่หนึ่ง</td>\n",
       "      <td>หนึ่งหก ลบหนึ่งสี่ ลบสองห้า ลบหนึ่งสาม สี่หนึ่...</td>\n",
       "      <td>1.0</td>\n",
       "      <td>4.0</td>\n",
       "    </tr>\n",
       "    <tr>\n",
       "      <th>2</th>\n",
       "      <td>0:20 - 0:30</td>\n",
       "      <td>ห้า ลบสองสาม ลบหนึ่งห้า ลบสามสี่ ซี่หนึ่งสี่</td>\n",
       "      <td>ห้า ลบสองสาม ลบหนึ่งห้า ลบสามสี่ สี่หนึ่งสี่</td>\n",
       "      <td>ค่าค่ ลบสองสาม ลบหนึ่งห้า ลบสามสี่ ซีหนึ่งสี่</td>\n",
       "      <td>1.0</td>\n",
       "      <td>5.0</td>\n",
       "    </tr>\n",
       "    <tr>\n",
       "      <th>3</th>\n",
       "      <td>0:30 - 0:35</td>\n",
       "      <td>ลบหนึ่งหก ลบสองห้า</td>\n",
       "      <td>ลบหนึ่งหก ลบสองห้า</td>\n",
       "      <td>ลบหนึ่งหก ลบสองห้า</td>\n",
       "      <td>0.0</td>\n",
       "      <td>0.0</td>\n",
       "    </tr>\n",
       "    <tr>\n",
       "      <th rowspan=\"3\" valign=\"top\">test_male_2.csv</th>\n",
       "      <th>0</th>\n",
       "      <td>0:00 - 0:10</td>\n",
       "      <td>เริ่ม ซี่หนึ่งสี่ ลบหนึ่งสาม ลบสองสี่ ลบหนึ่งห้า</td>\n",
       "      <td>นครับ cี่หนึ่งสี่ ลบหนึ่งสาม ลบสองสี่ ลบหนึ่งห้า้</td>\n",
       "      <td>เลือก สี่หนึ่งสี่ ลบหนึ่งสาม ลบสองสี่ ลบหนึ่งห...</td>\n",
       "      <td>7.0</td>\n",
       "      <td>9.0</td>\n",
       "    </tr>\n",
       "    <tr>\n",
       "      <th>1</th>\n",
       "      <td>0:10 - 0:20</td>\n",
       "      <td>แก้ใหม่ซี่หนึ่งสี่ ลบหนึ่งสี่ ลบสองสาม ลบหนึ่ง...</td>\n",
       "      <td>หลบหนึ่งสี่ ลบสองสาม ลบหนึ่งห้า สี่หนึ่งสาม</td>\n",
       "      <td>ใหม่ซีหนึ่งสี่ ลบหนึ่งสิ่ง ลบสองสาม พบหนึ่งห้า...</td>\n",
       "      <td>19.0</td>\n",
       "      <td>7.0</td>\n",
       "    </tr>\n",
       "    <tr>\n",
       "      <th>2</th>\n",
       "      <td>0:20 - 0:29</td>\n",
       "      <td>ลบสองห้า ลบหนึ่งสี่ ลบสองห้า ครับผม</td>\n",
       "      <td>สาลบสองห้า ลบหนึ่งสี่ ลบสองห้า ครั</td>\n",
       "      <td>ถาม ลบสองห้า ลบหนึ่งสี่ ลบสองห้า ครับ</td>\n",
       "      <td>5.0</td>\n",
       "      <td>6.0</td>\n",
       "    </tr>\n",
       "    <tr>\n",
       "      <th rowspan=\"5\" valign=\"top\">test_male_3.csv</th>\n",
       "      <th>0</th>\n",
       "      <td>0:00 - 0:10</td>\n",
       "      <td>รบกวนอาจารย์อีกรอบนะครับ ได้ครับผม เออ ซี่ ซี่...</td>\n",
       "      <td>คอาการย ก็พอ ได้ครับ ซี่ สีหนึ่งเจ็ด</td>\n",
       "      <td>คณอาการย เพราะพอได้ ข้าหกคนคนหนึ่ง อ่ซี่ สีหนึ...</td>\n",
       "      <td>26.0</td>\n",
       "      <td>35.0</td>\n",
       "    </tr>\n",
       "    <tr>\n",
       "      <th>1</th>\n",
       "      <td>0:10 - 0:20</td>\n",
       "      <td>ลบหนึ่งสาม ลบสองหก ลบสองห้า ซี่หนึ่งหก ลบหนึ่งสี่</td>\n",
       "      <td>ลบหนึ่งสาม ลบสองหก ลบสองห้า สี่หนึ่งหก ลบหนึ่งสี่</td>\n",
       "      <td>ลบหนึ่งสาม ลบสองหก ซุดสองห้า วี่หนึ่งหก ลบหนึ่...</td>\n",
       "      <td>1.0</td>\n",
       "      <td>4.0</td>\n",
       "    </tr>\n",
       "    <tr>\n",
       "      <th>2</th>\n",
       "      <td>0:20 - 0:30</td>\n",
       "      <td>ลบสองสาม ลบสามสี่ ซี่หนึ่งห้า ลบห้าสาม ลบสอง</td>\n",
       "      <td>ลบสองสาม ลบสามสี่ สี่หนึ่งห้า ลบห้าสาม ลบสอง</td>\n",
       "      <td>ลบสองสาม พบสายจริง ที่หนึ่งห้า ลบห้าสาม ลบสอง</td>\n",
       "      <td>1.0</td>\n",
       "      <td>7.0</td>\n",
       "    </tr>\n",
       "    <tr>\n",
       "      <th>3</th>\n",
       "      <td>0:30 - 0:40</td>\n",
       "      <td>สี่ ลบสามสาม แก้ไขซี่หนึ่งห้า ลบสองห้า ลบสองสาม</td>\n",
       "      <td>สี่ ลบสามสาม แก้ไขสี่หนึ่งห้า ลบสองห้า ลบสองสาม</td>\n",
       "      <td>สี่ ลบสามสาม แก้ไขที่หนึ่งห้า ลบสองห้า ลบสองสาม</td>\n",
       "      <td>1.0</td>\n",
       "      <td>1.0</td>\n",
       "    </tr>\n",
       "    <tr>\n",
       "      <th>4</th>\n",
       "      <td>0:40 - 0:43</td>\n",
       "      <td>ลบหนึ่งสี่</td>\n",
       "      <td>ลบหนึ่งสี่</td>\n",
       "      <td>ลบหนึ่งสี่</td>\n",
       "      <td>0.0</td>\n",
       "      <td>0.0</td>\n",
       "    </tr>\n",
       "  </tbody>\n",
       "</table>\n",
       "</div>"
      ],
      "text/plain": [
       "                          Time  \\\n",
       "test_male_1.csv 0  0:00 - 0:10   \n",
       "                1  0:10 - 0:20   \n",
       "                2  0:20 - 0:30   \n",
       "                3  0:30 - 0:35   \n",
       "test_male_2.csv 0  0:00 - 0:10   \n",
       "                1  0:10 - 0:20   \n",
       "                2  0:20 - 0:29   \n",
       "test_male_3.csv 0  0:00 - 0:10   \n",
       "                1  0:10 - 0:20   \n",
       "                2  0:20 - 0:30   \n",
       "                3  0:30 - 0:40   \n",
       "                4  0:40 - 0:43   \n",
       "\n",
       "                                                               Label  \\\n",
       "test_male_1.csv 0    ซี่หนึ่งเจ็ด ลบหนึ่งสาม ลบสองสี่ ลบหนึ่งห้า ซี่   \n",
       "                1    หนึ่งหก ลบหนึ่งสี่ ลบสองห้า ลบหนึ่งสาม ซี่หนึ่ง   \n",
       "                2       ห้า ลบสองสาม ลบหนึ่งห้า ลบสามสี่ ซี่หนึ่งสี่   \n",
       "                3                                 ลบหนึ่งหก ลบสองห้า   \n",
       "test_male_2.csv 0   เริ่ม ซี่หนึ่งสี่ ลบหนึ่งสาม ลบสองสี่ ลบหนึ่งห้า   \n",
       "                1  แก้ใหม่ซี่หนึ่งสี่ ลบหนึ่งสี่ ลบสองสาม ลบหนึ่ง...   \n",
       "                2                ลบสองห้า ลบหนึ่งสี่ ลบสองห้า ครับผม   \n",
       "test_male_3.csv 0  รบกวนอาจารย์อีกรอบนะครับ ได้ครับผม เออ ซี่ ซี่...   \n",
       "                1  ลบหนึ่งสาม ลบสองหก ลบสองห้า ซี่หนึ่งหก ลบหนึ่งสี่   \n",
       "                2       ลบสองสาม ลบสามสี่ ซี่หนึ่งห้า ลบห้าสาม ลบสอง   \n",
       "                3    สี่ ลบสามสาม แก้ไขซี่หนึ่งห้า ลบสองห้า ลบสองสาม   \n",
       "                4                                         ลบหนึ่งสี่   \n",
       "\n",
       "                                           Speech-To-Text (Original)  \\\n",
       "test_male_1.csv 0  Cี่หนึ่งเจ็ด ลบหนึ่งสาม ลบสองสี่ ลบหนึ่งห้า สี...   \n",
       "                1    หนึ่งหก ลบหนึ่งสี่ ลบสองห้า ลบหนึ่งสาม สี่หนึ่ง   \n",
       "                2       ห้า ลบสองสาม ลบหนึ่งห้า ลบสามสี่ สี่หนึ่งสี่   \n",
       "                3                                 ลบหนึ่งหก ลบสองห้า   \n",
       "test_male_2.csv 0  นครับ cี่หนึ่งสี่ ลบหนึ่งสาม ลบสองสี่ ลบหนึ่งห้า้   \n",
       "                1        หลบหนึ่งสี่ ลบสองสาม ลบหนึ่งห้า สี่หนึ่งสาม   \n",
       "                2                 สาลบสองห้า ลบหนึ่งสี่ ลบสองห้า ครั   \n",
       "test_male_3.csv 0               คอาการย ก็พอ ได้ครับ ซี่ สีหนึ่งเจ็ด   \n",
       "                1  ลบหนึ่งสาม ลบสองหก ลบสองห้า สี่หนึ่งหก ลบหนึ่งสี่   \n",
       "                2       ลบสองสาม ลบสามสี่ สี่หนึ่งห้า ลบห้าสาม ลบสอง   \n",
       "                3    สี่ ลบสามสาม แก้ไขสี่หนึ่งห้า ลบสองห้า ลบสองสาม   \n",
       "                4                                         ลบหนึ่งสี่   \n",
       "\n",
       "                                       Speech-To-Text (Reduce Noise)  \\\n",
       "test_male_1.csv 0    ซี่หนึ่งเจ็ด ลบหนึ่งสาม ลบสองสี่ ลบหนึ่งห้า สิน   \n",
       "                1  หนึ่งหก ลบหนึ่งสี่ ลบสองห้า ลบหนึ่งสาม สี่หนึ่...   \n",
       "                2      ค่าค่ ลบสองสาม ลบหนึ่งห้า ลบสามสี่ ซีหนึ่งสี่   \n",
       "                3                                 ลบหนึ่งหก ลบสองห้า   \n",
       "test_male_2.csv 0  เลือก สี่หนึ่งสี่ ลบหนึ่งสาม ลบสองสี่ ลบหนึ่งห...   \n",
       "                1  ใหม่ซีหนึ่งสี่ ลบหนึ่งสิ่ง ลบสองสาม พบหนึ่งห้า...   \n",
       "                2              ถาม ลบสองห้า ลบหนึ่งสี่ ลบสองห้า ครับ   \n",
       "test_male_3.csv 0  คณอาการย เพราะพอได้ ข้าหกคนคนหนึ่ง อ่ซี่ สีหนึ...   \n",
       "                1  ลบหนึ่งสาม ลบสองหก ซุดสองห้า วี่หนึ่งหก ลบหนึ่...   \n",
       "                2      ลบสองสาม พบสายจริง ที่หนึ่งห้า ลบห้าสาม ลบสอง   \n",
       "                3    สี่ ลบสามสาม แก้ไขที่หนึ่งห้า ลบสองห้า ลบสองสาม   \n",
       "                4                                         ลบหนึ่งสี่   \n",
       "\n",
       "                   Edit Distance (Original)  Edit Distance (Reduce Noise)  \n",
       "test_male_1.csv 0                       7.0                           3.0  \n",
       "                1                       1.0                           4.0  \n",
       "                2                       1.0                           5.0  \n",
       "                3                       0.0                           0.0  \n",
       "test_male_2.csv 0                       7.0                           9.0  \n",
       "                1                      19.0                           7.0  \n",
       "                2                       5.0                           6.0  \n",
       "test_male_3.csv 0                      26.0                          35.0  \n",
       "                1                       1.0                           4.0  \n",
       "                2                       1.0                           7.0  \n",
       "                3                       1.0                           1.0  \n",
       "                4                       0.0                           0.0  "
      ]
     },
     "execution_count": 42,
     "metadata": {},
     "output_type": "execute_result"
    }
   ],
   "source": [
    "edit_df[0]"
   ]
  },
  {
   "cell_type": "code",
   "execution_count": 35,
   "metadata": {},
   "outputs": [
    {
     "name": "stdout",
     "output_type": "stream",
     "text": [
      "Edit Distance of Male:\n",
      "\n",
      "Edit Distance (Original)        5.75\n",
      "Edit Distance (Reduce Noise)    6.75\n",
      "dtype: float64\n"
     ]
    }
   ],
   "source": [
    "print(\"Edit Distance of Male:\")\n",
    "print()\n",
    "print(edit_df[0].mean(numeric_only=True))"
   ]
  },
  {
   "cell_type": "markdown",
   "metadata": {},
   "source": [
    "### Female"
   ]
  },
  {
   "cell_type": "code",
   "execution_count": 43,
   "metadata": {},
   "outputs": [
    {
     "data": {
      "text/html": [
       "<div>\n",
       "<style scoped>\n",
       "    .dataframe tbody tr th:only-of-type {\n",
       "        vertical-align: middle;\n",
       "    }\n",
       "\n",
       "    .dataframe tbody tr th {\n",
       "        vertical-align: top;\n",
       "    }\n",
       "\n",
       "    .dataframe thead th {\n",
       "        text-align: right;\n",
       "    }\n",
       "</style>\n",
       "<table border=\"1\" class=\"dataframe\">\n",
       "  <thead>\n",
       "    <tr style=\"text-align: right;\">\n",
       "      <th></th>\n",
       "      <th></th>\n",
       "      <th>Time</th>\n",
       "      <th>Label</th>\n",
       "      <th>Speech-To-Text (Original)</th>\n",
       "      <th>Speech-To-Text (Reduce Noise)</th>\n",
       "      <th>Edit Distance (Original)</th>\n",
       "      <th>Edit Distance (Reduce Noise)</th>\n",
       "    </tr>\n",
       "  </thead>\n",
       "  <tbody>\n",
       "    <tr>\n",
       "      <th rowspan=\"3\" valign=\"top\">test_female_1.csv</th>\n",
       "      <th>1</th>\n",
       "      <td>0:10 - 0:20</td>\n",
       "      <td>หนึ่งสอง สองสี่ สี่ห้า ห้า สองห้า</td>\n",
       "      <td>หนึ่งสอง สองสี่ สี่ห้า ห้า สองห้า</td>\n",
       "      <td>หนึ่งสอง สองสี่ สี่ห้า ห้า สองห้า</td>\n",
       "      <td>0.0</td>\n",
       "      <td>0.0</td>\n",
       "    </tr>\n",
       "    <tr>\n",
       "      <th>2</th>\n",
       "      <td>0:20 - 0:30</td>\n",
       "      <td>หนึ่งสอง หนึ่งสี่ สามสอง หนึ่งสอง หนึ่งสอง</td>\n",
       "      <td>หนึ่งสอง หนึ่งสี่ ครบสามสอง หนึ่งสอง หนึ่งสอง</td>\n",
       "      <td>หนึ่งสอง หนึ่งสี่ สามสอง หนึ่งสอง หนึ่งสอง</td>\n",
       "      <td>3.0</td>\n",
       "      <td>0.0</td>\n",
       "    </tr>\n",
       "    <tr>\n",
       "      <th>3</th>\n",
       "      <td>0:30 - 0:39</td>\n",
       "      <td>เริ่มหนึ่งห้า สองสอง หนึ่งสอง ศูนย์หนึ่ง อาจจะลอง</td>\n",
       "      <td>รรนห สอสอง หนึ่งสอง ศูนย์หนึ่ง อาจจะล้อง</td>\n",
       "      <td>ร่มหนึ่งห้า สองสอง หนึ่งสอง ศูนย์หนึ่ง อาจจะลอง</td>\n",
       "      <td>12.0</td>\n",
       "      <td>2.0</td>\n",
       "    </tr>\n",
       "    <tr>\n",
       "      <th rowspan=\"3\" valign=\"top\">test_female_2.csv</th>\n",
       "      <th>0</th>\n",
       "      <td>0:00 - 0:10</td>\n",
       "      <td>เชิญครับ ค่ะ เริ่มหนึ่งหนึ่งดิททรัล หนึ่งสอง ห...</td>\n",
       "      <td>เริ่มหนึ่งหนึ่งดิตอล หนึ่งสอง หนึ่งสอง</td>\n",
       "      <td>เริ่มหนึ่งหนึ่งดิตอล หนึ่งสอง หนึ่งสอง</td>\n",
       "      <td>17.0</td>\n",
       "      <td>17.0</td>\n",
       "    </tr>\n",
       "    <tr>\n",
       "      <th>1</th>\n",
       "      <td>0:10 - 0:20</td>\n",
       "      <td>หนึ่งสี่ สองสี่ ขอแก้ไข สองหนึ่ง หนึ่งสอง สี่สอง</td>\n",
       "      <td>หนึ่งสี่ สองสี่ สแก้ สองหนึ่ง หนึ่งสองคะ สี่สอง</td>\n",
       "      <td>หนึ่งสี่ สองสี่ ขอแก้ไข สองหนึ่ง หนึ่งสอง สี่จอง</td>\n",
       "      <td>6.0</td>\n",
       "      <td>1.0</td>\n",
       "    </tr>\n",
       "    <tr>\n",
       "      <th>2</th>\n",
       "      <td>0:20 - 0:23</td>\n",
       "      <td>สามสอง ค่ะ ขอบคุณครับ</td>\n",
       "      <td>สสามสอง ค</td>\n",
       "      <td>สองสาม สองฉักอีกแล้ว</td>\n",
       "      <td>14.0</td>\n",
       "      <td>18.0</td>\n",
       "    </tr>\n",
       "    <tr>\n",
       "      <th rowspan=\"3\" valign=\"top\">test_female_3.csv</th>\n",
       "      <th>0</th>\n",
       "      <td>0:00 - 0:10</td>\n",
       "      <td>หนึ่งแปดดิททรัล ลบสองหนึ่ง ลบสองสาม ศูนย์หนึ่ง</td>\n",
       "      <td>หนึ่งแปดติตอล ลบสองนึ่ง ลบสองส ศูนย์หนึ่ง</td>\n",
       "      <td>หนึ่งแปดดิซซอล ลบสองหนึ่ง แล้วสองสาม ศูนย์หนึ่ง</td>\n",
       "      <td>8.0</td>\n",
       "      <td>7.0</td>\n",
       "    </tr>\n",
       "    <tr>\n",
       "      <th>1</th>\n",
       "      <td>0:10 - 0:20</td>\n",
       "      <td>สองสี่ สองสอง ศูนย์หนึ่ง แก้ไข ใหม่ ซี่หนึ่ง</td>\n",
       "      <td>สองสี่ สองสอง ศูนย์หนึ่ง แก้ไข หม น่</td>\n",
       "      <td>สองสี่ สองสอง ศูนย์หนึ่ง แก้ไขใหม่ ที่หนึ่งเส็ด</td>\n",
       "      <td>8.0</td>\n",
       "      <td>6.0</td>\n",
       "    </tr>\n",
       "    <tr>\n",
       "      <th>2</th>\n",
       "      <td>0:20 - 0:30</td>\n",
       "      <td>เจ็ด ดิททรัล สอง ลบสองหนึ่ง ลบสองสอง ศูนย์ห้า</td>\n",
       "      <td>น สอง ลสองนง ลบสองสอง ศนห้า</td>\n",
       "      <td>net ดิตอล สอง ลบสองหนึ่ง ลดสองสอง ศูนย์ห้า</td>\n",
       "      <td>19.0</td>\n",
       "      <td>9.0</td>\n",
       "    </tr>\n",
       "  </tbody>\n",
       "</table>\n",
       "</div>"
      ],
      "text/plain": [
       "                            Time  \\\n",
       "test_female_1.csv 1  0:10 - 0:20   \n",
       "                  2  0:20 - 0:30   \n",
       "                  3  0:30 - 0:39   \n",
       "test_female_2.csv 0  0:00 - 0:10   \n",
       "                  1  0:10 - 0:20   \n",
       "                  2  0:20 - 0:23   \n",
       "test_female_3.csv 0  0:00 - 0:10   \n",
       "                  1  0:10 - 0:20   \n",
       "                  2  0:20 - 0:30   \n",
       "\n",
       "                                                                 Label  \\\n",
       "test_female_1.csv 1                  หนึ่งสอง สองสี่ สี่ห้า ห้า สองห้า   \n",
       "                  2         หนึ่งสอง หนึ่งสี่ สามสอง หนึ่งสอง หนึ่งสอง   \n",
       "                  3  เริ่มหนึ่งห้า สองสอง หนึ่งสอง ศูนย์หนึ่ง อาจจะลอง   \n",
       "test_female_2.csv 0  เชิญครับ ค่ะ เริ่มหนึ่งหนึ่งดิททรัล หนึ่งสอง ห...   \n",
       "                  1   หนึ่งสี่ สองสี่ ขอแก้ไข สองหนึ่ง หนึ่งสอง สี่สอง   \n",
       "                  2                              สามสอง ค่ะ ขอบคุณครับ   \n",
       "test_female_3.csv 0     หนึ่งแปดดิททรัล ลบสองหนึ่ง ลบสองสาม ศูนย์หนึ่ง   \n",
       "                  1       สองสี่ สองสอง ศูนย์หนึ่ง แก้ไข ใหม่ ซี่หนึ่ง   \n",
       "                  2      เจ็ด ดิททรัล สอง ลบสองหนึ่ง ลบสองสอง ศูนย์ห้า   \n",
       "\n",
       "                                           Speech-To-Text (Original)  \\\n",
       "test_female_1.csv 1                หนึ่งสอง สองสี่ สี่ห้า ห้า สองห้า   \n",
       "                  2    หนึ่งสอง หนึ่งสี่ ครบสามสอง หนึ่งสอง หนึ่งสอง   \n",
       "                  3         รรนห สอสอง หนึ่งสอง ศูนย์หนึ่ง อาจจะล้อง   \n",
       "test_female_2.csv 0           เริ่มหนึ่งหนึ่งดิตอล หนึ่งสอง หนึ่งสอง   \n",
       "                  1  หนึ่งสี่ สองสี่ สแก้ สองหนึ่ง หนึ่งสองคะ สี่สอง   \n",
       "                  2                                        สสามสอง ค   \n",
       "test_female_3.csv 0        หนึ่งแปดติตอล ลบสองนึ่ง ลบสองส ศูนย์หนึ่ง   \n",
       "                  1             สองสี่ สองสอง ศูนย์หนึ่ง แก้ไข หม น่   \n",
       "                  2                      น สอง ลสองนง ลบสองสอง ศนห้า   \n",
       "\n",
       "                                        Speech-To-Text (Reduce Noise)  \\\n",
       "test_female_1.csv 1                 หนึ่งสอง สองสี่ สี่ห้า ห้า สองห้า   \n",
       "                  2        หนึ่งสอง หนึ่งสี่ สามสอง หนึ่งสอง หนึ่งสอง   \n",
       "                  3   ร่มหนึ่งห้า สองสอง หนึ่งสอง ศูนย์หนึ่ง อาจจะลอง   \n",
       "test_female_2.csv 0            เริ่มหนึ่งหนึ่งดิตอล หนึ่งสอง หนึ่งสอง   \n",
       "                  1  หนึ่งสี่ สองสี่ ขอแก้ไข สองหนึ่ง หนึ่งสอง สี่จอง   \n",
       "                  2                              สองสาม สองฉักอีกแล้ว   \n",
       "test_female_3.csv 0   หนึ่งแปดดิซซอล ลบสองหนึ่ง แล้วสองสาม ศูนย์หนึ่ง   \n",
       "                  1   สองสี่ สองสอง ศูนย์หนึ่ง แก้ไขใหม่ ที่หนึ่งเส็ด   \n",
       "                  2        net ดิตอล สอง ลบสองหนึ่ง ลดสองสอง ศูนย์ห้า   \n",
       "\n",
       "                     Edit Distance (Original)  Edit Distance (Reduce Noise)  \n",
       "test_female_1.csv 1                       0.0                           0.0  \n",
       "                  2                       3.0                           0.0  \n",
       "                  3                      12.0                           2.0  \n",
       "test_female_2.csv 0                      17.0                          17.0  \n",
       "                  1                       6.0                           1.0  \n",
       "                  2                      14.0                          18.0  \n",
       "test_female_3.csv 0                       8.0                           7.0  \n",
       "                  1                       8.0                           6.0  \n",
       "                  2                      19.0                           9.0  "
      ]
     },
     "execution_count": 43,
     "metadata": {},
     "output_type": "execute_result"
    }
   ],
   "source": [
    "edit_df[1]"
   ]
  },
  {
   "cell_type": "code",
   "execution_count": 36,
   "metadata": {},
   "outputs": [
    {
     "name": "stdout",
     "output_type": "stream",
     "text": [
      "Edit Distance of Female:\n",
      "\n",
      "Edit Distance (Original)        9.666667\n",
      "Edit Distance (Reduce Noise)    6.666667\n",
      "dtype: float64\n"
     ]
    }
   ],
   "source": [
    "print(\"Edit Distance of Female:\")\n",
    "print()\n",
    "print(edit_df[1].mean(numeric_only=True))"
   ]
  },
  {
   "cell_type": "markdown",
   "metadata": {},
   "source": [
    "### All"
   ]
  },
  {
   "cell_type": "code",
   "execution_count": 37,
   "metadata": {},
   "outputs": [],
   "source": [
    "all_df = pd.concat(edit_df)"
   ]
  },
  {
   "cell_type": "code",
   "execution_count": 44,
   "metadata": {},
   "outputs": [
    {
     "data": {
      "text/html": [
       "<div>\n",
       "<style scoped>\n",
       "    .dataframe tbody tr th:only-of-type {\n",
       "        vertical-align: middle;\n",
       "    }\n",
       "\n",
       "    .dataframe tbody tr th {\n",
       "        vertical-align: top;\n",
       "    }\n",
       "\n",
       "    .dataframe thead th {\n",
       "        text-align: right;\n",
       "    }\n",
       "</style>\n",
       "<table border=\"1\" class=\"dataframe\">\n",
       "  <thead>\n",
       "    <tr style=\"text-align: right;\">\n",
       "      <th></th>\n",
       "      <th></th>\n",
       "      <th>Time</th>\n",
       "      <th>Label</th>\n",
       "      <th>Speech-To-Text (Original)</th>\n",
       "      <th>Speech-To-Text (Reduce Noise)</th>\n",
       "      <th>Edit Distance (Original)</th>\n",
       "      <th>Edit Distance (Reduce Noise)</th>\n",
       "    </tr>\n",
       "  </thead>\n",
       "  <tbody>\n",
       "    <tr>\n",
       "      <th rowspan=\"4\" valign=\"top\">test_male_1.csv</th>\n",
       "      <th>0</th>\n",
       "      <td>0:00 - 0:10</td>\n",
       "      <td>ซี่หนึ่งเจ็ด ลบหนึ่งสาม ลบสองสี่ ลบหนึ่งห้า ซี่</td>\n",
       "      <td>Cี่หนึ่งเจ็ด ลบหนึ่งสาม ลบสองสี่ ลบหนึ่งห้า สี...</td>\n",
       "      <td>ซี่หนึ่งเจ็ด ลบหนึ่งสาม ลบสองสี่ ลบหนึ่งห้า สิน</td>\n",
       "      <td>7.0</td>\n",
       "      <td>3.0</td>\n",
       "    </tr>\n",
       "    <tr>\n",
       "      <th>1</th>\n",
       "      <td>0:10 - 0:20</td>\n",
       "      <td>หนึ่งหก ลบหนึ่งสี่ ลบสองห้า ลบหนึ่งสาม ซี่หนึ่ง</td>\n",
       "      <td>หนึ่งหก ลบหนึ่งสี่ ลบสองห้า ลบหนึ่งสาม สี่หนึ่ง</td>\n",
       "      <td>หนึ่งหก ลบหนึ่งสี่ ลบสองห้า ลบหนึ่งสาม สี่หนึ่...</td>\n",
       "      <td>1.0</td>\n",
       "      <td>4.0</td>\n",
       "    </tr>\n",
       "    <tr>\n",
       "      <th>2</th>\n",
       "      <td>0:20 - 0:30</td>\n",
       "      <td>ห้า ลบสองสาม ลบหนึ่งห้า ลบสามสี่ ซี่หนึ่งสี่</td>\n",
       "      <td>ห้า ลบสองสาม ลบหนึ่งห้า ลบสามสี่ สี่หนึ่งสี่</td>\n",
       "      <td>ค่าค่ ลบสองสาม ลบหนึ่งห้า ลบสามสี่ ซีหนึ่งสี่</td>\n",
       "      <td>1.0</td>\n",
       "      <td>5.0</td>\n",
       "    </tr>\n",
       "    <tr>\n",
       "      <th>3</th>\n",
       "      <td>0:30 - 0:35</td>\n",
       "      <td>ลบหนึ่งหก ลบสองห้า</td>\n",
       "      <td>ลบหนึ่งหก ลบสองห้า</td>\n",
       "      <td>ลบหนึ่งหก ลบสองห้า</td>\n",
       "      <td>0.0</td>\n",
       "      <td>0.0</td>\n",
       "    </tr>\n",
       "    <tr>\n",
       "      <th rowspan=\"3\" valign=\"top\">test_male_2.csv</th>\n",
       "      <th>0</th>\n",
       "      <td>0:00 - 0:10</td>\n",
       "      <td>เริ่ม ซี่หนึ่งสี่ ลบหนึ่งสาม ลบสองสี่ ลบหนึ่งห้า</td>\n",
       "      <td>นครับ cี่หนึ่งสี่ ลบหนึ่งสาม ลบสองสี่ ลบหนึ่งห้า้</td>\n",
       "      <td>เลือก สี่หนึ่งสี่ ลบหนึ่งสาม ลบสองสี่ ลบหนึ่งห...</td>\n",
       "      <td>7.0</td>\n",
       "      <td>9.0</td>\n",
       "    </tr>\n",
       "    <tr>\n",
       "      <th>1</th>\n",
       "      <td>0:10 - 0:20</td>\n",
       "      <td>แก้ใหม่ซี่หนึ่งสี่ ลบหนึ่งสี่ ลบสองสาม ลบหนึ่ง...</td>\n",
       "      <td>หลบหนึ่งสี่ ลบสองสาม ลบหนึ่งห้า สี่หนึ่งสาม</td>\n",
       "      <td>ใหม่ซีหนึ่งสี่ ลบหนึ่งสิ่ง ลบสองสาม พบหนึ่งห้า...</td>\n",
       "      <td>19.0</td>\n",
       "      <td>7.0</td>\n",
       "    </tr>\n",
       "    <tr>\n",
       "      <th>2</th>\n",
       "      <td>0:20 - 0:29</td>\n",
       "      <td>ลบสองห้า ลบหนึ่งสี่ ลบสองห้า ครับผม</td>\n",
       "      <td>สาลบสองห้า ลบหนึ่งสี่ ลบสองห้า ครั</td>\n",
       "      <td>ถาม ลบสองห้า ลบหนึ่งสี่ ลบสองห้า ครับ</td>\n",
       "      <td>5.0</td>\n",
       "      <td>6.0</td>\n",
       "    </tr>\n",
       "    <tr>\n",
       "      <th rowspan=\"5\" valign=\"top\">test_male_3.csv</th>\n",
       "      <th>0</th>\n",
       "      <td>0:00 - 0:10</td>\n",
       "      <td>รบกวนอาจารย์อีกรอบนะครับ ได้ครับผม เออ ซี่ ซี่...</td>\n",
       "      <td>คอาการย ก็พอ ได้ครับ ซี่ สีหนึ่งเจ็ด</td>\n",
       "      <td>คณอาการย เพราะพอได้ ข้าหกคนคนหนึ่ง อ่ซี่ สีหนึ...</td>\n",
       "      <td>26.0</td>\n",
       "      <td>35.0</td>\n",
       "    </tr>\n",
       "    <tr>\n",
       "      <th>1</th>\n",
       "      <td>0:10 - 0:20</td>\n",
       "      <td>ลบหนึ่งสาม ลบสองหก ลบสองห้า ซี่หนึ่งหก ลบหนึ่งสี่</td>\n",
       "      <td>ลบหนึ่งสาม ลบสองหก ลบสองห้า สี่หนึ่งหก ลบหนึ่งสี่</td>\n",
       "      <td>ลบหนึ่งสาม ลบสองหก ซุดสองห้า วี่หนึ่งหก ลบหนึ่...</td>\n",
       "      <td>1.0</td>\n",
       "      <td>4.0</td>\n",
       "    </tr>\n",
       "    <tr>\n",
       "      <th>2</th>\n",
       "      <td>0:20 - 0:30</td>\n",
       "      <td>ลบสองสาม ลบสามสี่ ซี่หนึ่งห้า ลบห้าสาม ลบสอง</td>\n",
       "      <td>ลบสองสาม ลบสามสี่ สี่หนึ่งห้า ลบห้าสาม ลบสอง</td>\n",
       "      <td>ลบสองสาม พบสายจริง ที่หนึ่งห้า ลบห้าสาม ลบสอง</td>\n",
       "      <td>1.0</td>\n",
       "      <td>7.0</td>\n",
       "    </tr>\n",
       "    <tr>\n",
       "      <th>3</th>\n",
       "      <td>0:30 - 0:40</td>\n",
       "      <td>สี่ ลบสามสาม แก้ไขซี่หนึ่งห้า ลบสองห้า ลบสองสาม</td>\n",
       "      <td>สี่ ลบสามสาม แก้ไขสี่หนึ่งห้า ลบสองห้า ลบสองสาม</td>\n",
       "      <td>สี่ ลบสามสาม แก้ไขที่หนึ่งห้า ลบสองห้า ลบสองสาม</td>\n",
       "      <td>1.0</td>\n",
       "      <td>1.0</td>\n",
       "    </tr>\n",
       "    <tr>\n",
       "      <th>4</th>\n",
       "      <td>0:40 - 0:43</td>\n",
       "      <td>ลบหนึ่งสี่</td>\n",
       "      <td>ลบหนึ่งสี่</td>\n",
       "      <td>ลบหนึ่งสี่</td>\n",
       "      <td>0.0</td>\n",
       "      <td>0.0</td>\n",
       "    </tr>\n",
       "    <tr>\n",
       "      <th rowspan=\"3\" valign=\"top\">test_female_1.csv</th>\n",
       "      <th>1</th>\n",
       "      <td>0:10 - 0:20</td>\n",
       "      <td>หนึ่งสอง สองสี่ สี่ห้า ห้า สองห้า</td>\n",
       "      <td>หนึ่งสอง สองสี่ สี่ห้า ห้า สองห้า</td>\n",
       "      <td>หนึ่งสอง สองสี่ สี่ห้า ห้า สองห้า</td>\n",
       "      <td>0.0</td>\n",
       "      <td>0.0</td>\n",
       "    </tr>\n",
       "    <tr>\n",
       "      <th>2</th>\n",
       "      <td>0:20 - 0:30</td>\n",
       "      <td>หนึ่งสอง หนึ่งสี่ สามสอง หนึ่งสอง หนึ่งสอง</td>\n",
       "      <td>หนึ่งสอง หนึ่งสี่ ครบสามสอง หนึ่งสอง หนึ่งสอง</td>\n",
       "      <td>หนึ่งสอง หนึ่งสี่ สามสอง หนึ่งสอง หนึ่งสอง</td>\n",
       "      <td>3.0</td>\n",
       "      <td>0.0</td>\n",
       "    </tr>\n",
       "    <tr>\n",
       "      <th>3</th>\n",
       "      <td>0:30 - 0:39</td>\n",
       "      <td>เริ่มหนึ่งห้า สองสอง หนึ่งสอง ศูนย์หนึ่ง อาจจะลอง</td>\n",
       "      <td>รรนห สอสอง หนึ่งสอง ศูนย์หนึ่ง อาจจะล้อง</td>\n",
       "      <td>ร่มหนึ่งห้า สองสอง หนึ่งสอง ศูนย์หนึ่ง อาจจะลอง</td>\n",
       "      <td>12.0</td>\n",
       "      <td>2.0</td>\n",
       "    </tr>\n",
       "    <tr>\n",
       "      <th rowspan=\"3\" valign=\"top\">test_female_2.csv</th>\n",
       "      <th>0</th>\n",
       "      <td>0:00 - 0:10</td>\n",
       "      <td>เชิญครับ ค่ะ เริ่มหนึ่งหนึ่งดิททรัล หนึ่งสอง ห...</td>\n",
       "      <td>เริ่มหนึ่งหนึ่งดิตอล หนึ่งสอง หนึ่งสอง</td>\n",
       "      <td>เริ่มหนึ่งหนึ่งดิตอล หนึ่งสอง หนึ่งสอง</td>\n",
       "      <td>17.0</td>\n",
       "      <td>17.0</td>\n",
       "    </tr>\n",
       "    <tr>\n",
       "      <th>1</th>\n",
       "      <td>0:10 - 0:20</td>\n",
       "      <td>หนึ่งสี่ สองสี่ ขอแก้ไข สองหนึ่ง หนึ่งสอง สี่สอง</td>\n",
       "      <td>หนึ่งสี่ สองสี่ สแก้ สองหนึ่ง หนึ่งสองคะ สี่สอง</td>\n",
       "      <td>หนึ่งสี่ สองสี่ ขอแก้ไข สองหนึ่ง หนึ่งสอง สี่จอง</td>\n",
       "      <td>6.0</td>\n",
       "      <td>1.0</td>\n",
       "    </tr>\n",
       "    <tr>\n",
       "      <th>2</th>\n",
       "      <td>0:20 - 0:23</td>\n",
       "      <td>สามสอง ค่ะ ขอบคุณครับ</td>\n",
       "      <td>สสามสอง ค</td>\n",
       "      <td>สองสาม สองฉักอีกแล้ว</td>\n",
       "      <td>14.0</td>\n",
       "      <td>18.0</td>\n",
       "    </tr>\n",
       "    <tr>\n",
       "      <th rowspan=\"3\" valign=\"top\">test_female_3.csv</th>\n",
       "      <th>0</th>\n",
       "      <td>0:00 - 0:10</td>\n",
       "      <td>หนึ่งแปดดิททรัล ลบสองหนึ่ง ลบสองสาม ศูนย์หนึ่ง</td>\n",
       "      <td>หนึ่งแปดติตอล ลบสองนึ่ง ลบสองส ศูนย์หนึ่ง</td>\n",
       "      <td>หนึ่งแปดดิซซอล ลบสองหนึ่ง แล้วสองสาม ศูนย์หนึ่ง</td>\n",
       "      <td>8.0</td>\n",
       "      <td>7.0</td>\n",
       "    </tr>\n",
       "    <tr>\n",
       "      <th>1</th>\n",
       "      <td>0:10 - 0:20</td>\n",
       "      <td>สองสี่ สองสอง ศูนย์หนึ่ง แก้ไข ใหม่ ซี่หนึ่ง</td>\n",
       "      <td>สองสี่ สองสอง ศูนย์หนึ่ง แก้ไข หม น่</td>\n",
       "      <td>สองสี่ สองสอง ศูนย์หนึ่ง แก้ไขใหม่ ที่หนึ่งเส็ด</td>\n",
       "      <td>8.0</td>\n",
       "      <td>6.0</td>\n",
       "    </tr>\n",
       "    <tr>\n",
       "      <th>2</th>\n",
       "      <td>0:20 - 0:30</td>\n",
       "      <td>เจ็ด ดิททรัล สอง ลบสองหนึ่ง ลบสองสอง ศูนย์ห้า</td>\n",
       "      <td>น สอง ลสองนง ลบสองสอง ศนห้า</td>\n",
       "      <td>net ดิตอล สอง ลบสองหนึ่ง ลดสองสอง ศูนย์ห้า</td>\n",
       "      <td>19.0</td>\n",
       "      <td>9.0</td>\n",
       "    </tr>\n",
       "  </tbody>\n",
       "</table>\n",
       "</div>"
      ],
      "text/plain": [
       "                            Time  \\\n",
       "test_male_1.csv   0  0:00 - 0:10   \n",
       "                  1  0:10 - 0:20   \n",
       "                  2  0:20 - 0:30   \n",
       "                  3  0:30 - 0:35   \n",
       "test_male_2.csv   0  0:00 - 0:10   \n",
       "                  1  0:10 - 0:20   \n",
       "                  2  0:20 - 0:29   \n",
       "test_male_3.csv   0  0:00 - 0:10   \n",
       "                  1  0:10 - 0:20   \n",
       "                  2  0:20 - 0:30   \n",
       "                  3  0:30 - 0:40   \n",
       "                  4  0:40 - 0:43   \n",
       "test_female_1.csv 1  0:10 - 0:20   \n",
       "                  2  0:20 - 0:30   \n",
       "                  3  0:30 - 0:39   \n",
       "test_female_2.csv 0  0:00 - 0:10   \n",
       "                  1  0:10 - 0:20   \n",
       "                  2  0:20 - 0:23   \n",
       "test_female_3.csv 0  0:00 - 0:10   \n",
       "                  1  0:10 - 0:20   \n",
       "                  2  0:20 - 0:30   \n",
       "\n",
       "                                                                 Label  \\\n",
       "test_male_1.csv   0    ซี่หนึ่งเจ็ด ลบหนึ่งสาม ลบสองสี่ ลบหนึ่งห้า ซี่   \n",
       "                  1    หนึ่งหก ลบหนึ่งสี่ ลบสองห้า ลบหนึ่งสาม ซี่หนึ่ง   \n",
       "                  2       ห้า ลบสองสาม ลบหนึ่งห้า ลบสามสี่ ซี่หนึ่งสี่   \n",
       "                  3                                 ลบหนึ่งหก ลบสองห้า   \n",
       "test_male_2.csv   0   เริ่ม ซี่หนึ่งสี่ ลบหนึ่งสาม ลบสองสี่ ลบหนึ่งห้า   \n",
       "                  1  แก้ใหม่ซี่หนึ่งสี่ ลบหนึ่งสี่ ลบสองสาม ลบหนึ่ง...   \n",
       "                  2                ลบสองห้า ลบหนึ่งสี่ ลบสองห้า ครับผม   \n",
       "test_male_3.csv   0  รบกวนอาจารย์อีกรอบนะครับ ได้ครับผม เออ ซี่ ซี่...   \n",
       "                  1  ลบหนึ่งสาม ลบสองหก ลบสองห้า ซี่หนึ่งหก ลบหนึ่งสี่   \n",
       "                  2       ลบสองสาม ลบสามสี่ ซี่หนึ่งห้า ลบห้าสาม ลบสอง   \n",
       "                  3    สี่ ลบสามสาม แก้ไขซี่หนึ่งห้า ลบสองห้า ลบสองสาม   \n",
       "                  4                                         ลบหนึ่งสี่   \n",
       "test_female_1.csv 1                  หนึ่งสอง สองสี่ สี่ห้า ห้า สองห้า   \n",
       "                  2         หนึ่งสอง หนึ่งสี่ สามสอง หนึ่งสอง หนึ่งสอง   \n",
       "                  3  เริ่มหนึ่งห้า สองสอง หนึ่งสอง ศูนย์หนึ่ง อาจจะลอง   \n",
       "test_female_2.csv 0  เชิญครับ ค่ะ เริ่มหนึ่งหนึ่งดิททรัล หนึ่งสอง ห...   \n",
       "                  1   หนึ่งสี่ สองสี่ ขอแก้ไข สองหนึ่ง หนึ่งสอง สี่สอง   \n",
       "                  2                              สามสอง ค่ะ ขอบคุณครับ   \n",
       "test_female_3.csv 0     หนึ่งแปดดิททรัล ลบสองหนึ่ง ลบสองสาม ศูนย์หนึ่ง   \n",
       "                  1       สองสี่ สองสอง ศูนย์หนึ่ง แก้ไข ใหม่ ซี่หนึ่ง   \n",
       "                  2      เจ็ด ดิททรัล สอง ลบสองหนึ่ง ลบสองสอง ศูนย์ห้า   \n",
       "\n",
       "                                             Speech-To-Text (Original)  \\\n",
       "test_male_1.csv   0  Cี่หนึ่งเจ็ด ลบหนึ่งสาม ลบสองสี่ ลบหนึ่งห้า สี...   \n",
       "                  1    หนึ่งหก ลบหนึ่งสี่ ลบสองห้า ลบหนึ่งสาม สี่หนึ่ง   \n",
       "                  2       ห้า ลบสองสาม ลบหนึ่งห้า ลบสามสี่ สี่หนึ่งสี่   \n",
       "                  3                                 ลบหนึ่งหก ลบสองห้า   \n",
       "test_male_2.csv   0  นครับ cี่หนึ่งสี่ ลบหนึ่งสาม ลบสองสี่ ลบหนึ่งห้า้   \n",
       "                  1        หลบหนึ่งสี่ ลบสองสาม ลบหนึ่งห้า สี่หนึ่งสาม   \n",
       "                  2                 สาลบสองห้า ลบหนึ่งสี่ ลบสองห้า ครั   \n",
       "test_male_3.csv   0               คอาการย ก็พอ ได้ครับ ซี่ สีหนึ่งเจ็ด   \n",
       "                  1  ลบหนึ่งสาม ลบสองหก ลบสองห้า สี่หนึ่งหก ลบหนึ่งสี่   \n",
       "                  2       ลบสองสาม ลบสามสี่ สี่หนึ่งห้า ลบห้าสาม ลบสอง   \n",
       "                  3    สี่ ลบสามสาม แก้ไขสี่หนึ่งห้า ลบสองห้า ลบสองสาม   \n",
       "                  4                                         ลบหนึ่งสี่   \n",
       "test_female_1.csv 1                  หนึ่งสอง สองสี่ สี่ห้า ห้า สองห้า   \n",
       "                  2      หนึ่งสอง หนึ่งสี่ ครบสามสอง หนึ่งสอง หนึ่งสอง   \n",
       "                  3           รรนห สอสอง หนึ่งสอง ศูนย์หนึ่ง อาจจะล้อง   \n",
       "test_female_2.csv 0             เริ่มหนึ่งหนึ่งดิตอล หนึ่งสอง หนึ่งสอง   \n",
       "                  1    หนึ่งสี่ สองสี่ สแก้ สองหนึ่ง หนึ่งสองคะ สี่สอง   \n",
       "                  2                                          สสามสอง ค   \n",
       "test_female_3.csv 0          หนึ่งแปดติตอล ลบสองนึ่ง ลบสองส ศูนย์หนึ่ง   \n",
       "                  1               สองสี่ สองสอง ศูนย์หนึ่ง แก้ไข หม น่   \n",
       "                  2                        น สอง ลสองนง ลบสองสอง ศนห้า   \n",
       "\n",
       "                                         Speech-To-Text (Reduce Noise)  \\\n",
       "test_male_1.csv   0    ซี่หนึ่งเจ็ด ลบหนึ่งสาม ลบสองสี่ ลบหนึ่งห้า สิน   \n",
       "                  1  หนึ่งหก ลบหนึ่งสี่ ลบสองห้า ลบหนึ่งสาม สี่หนึ่...   \n",
       "                  2      ค่าค่ ลบสองสาม ลบหนึ่งห้า ลบสามสี่ ซีหนึ่งสี่   \n",
       "                  3                                 ลบหนึ่งหก ลบสองห้า   \n",
       "test_male_2.csv   0  เลือก สี่หนึ่งสี่ ลบหนึ่งสาม ลบสองสี่ ลบหนึ่งห...   \n",
       "                  1  ใหม่ซีหนึ่งสี่ ลบหนึ่งสิ่ง ลบสองสาม พบหนึ่งห้า...   \n",
       "                  2              ถาม ลบสองห้า ลบหนึ่งสี่ ลบสองห้า ครับ   \n",
       "test_male_3.csv   0  คณอาการย เพราะพอได้ ข้าหกคนคนหนึ่ง อ่ซี่ สีหนึ...   \n",
       "                  1  ลบหนึ่งสาม ลบสองหก ซุดสองห้า วี่หนึ่งหก ลบหนึ่...   \n",
       "                  2      ลบสองสาม พบสายจริง ที่หนึ่งห้า ลบห้าสาม ลบสอง   \n",
       "                  3    สี่ ลบสามสาม แก้ไขที่หนึ่งห้า ลบสองห้า ลบสองสาม   \n",
       "                  4                                         ลบหนึ่งสี่   \n",
       "test_female_1.csv 1                  หนึ่งสอง สองสี่ สี่ห้า ห้า สองห้า   \n",
       "                  2         หนึ่งสอง หนึ่งสี่ สามสอง หนึ่งสอง หนึ่งสอง   \n",
       "                  3    ร่มหนึ่งห้า สองสอง หนึ่งสอง ศูนย์หนึ่ง อาจจะลอง   \n",
       "test_female_2.csv 0             เริ่มหนึ่งหนึ่งดิตอล หนึ่งสอง หนึ่งสอง   \n",
       "                  1   หนึ่งสี่ สองสี่ ขอแก้ไข สองหนึ่ง หนึ่งสอง สี่จอง   \n",
       "                  2                               สองสาม สองฉักอีกแล้ว   \n",
       "test_female_3.csv 0    หนึ่งแปดดิซซอล ลบสองหนึ่ง แล้วสองสาม ศูนย์หนึ่ง   \n",
       "                  1    สองสี่ สองสอง ศูนย์หนึ่ง แก้ไขใหม่ ที่หนึ่งเส็ด   \n",
       "                  2         net ดิตอล สอง ลบสองหนึ่ง ลดสองสอง ศูนย์ห้า   \n",
       "\n",
       "                     Edit Distance (Original)  Edit Distance (Reduce Noise)  \n",
       "test_male_1.csv   0                       7.0                           3.0  \n",
       "                  1                       1.0                           4.0  \n",
       "                  2                       1.0                           5.0  \n",
       "                  3                       0.0                           0.0  \n",
       "test_male_2.csv   0                       7.0                           9.0  \n",
       "                  1                      19.0                           7.0  \n",
       "                  2                       5.0                           6.0  \n",
       "test_male_3.csv   0                      26.0                          35.0  \n",
       "                  1                       1.0                           4.0  \n",
       "                  2                       1.0                           7.0  \n",
       "                  3                       1.0                           1.0  \n",
       "                  4                       0.0                           0.0  \n",
       "test_female_1.csv 1                       0.0                           0.0  \n",
       "                  2                       3.0                           0.0  \n",
       "                  3                      12.0                           2.0  \n",
       "test_female_2.csv 0                      17.0                          17.0  \n",
       "                  1                       6.0                           1.0  \n",
       "                  2                      14.0                          18.0  \n",
       "test_female_3.csv 0                       8.0                           7.0  \n",
       "                  1                       8.0                           6.0  \n",
       "                  2                      19.0                           9.0  "
      ]
     },
     "execution_count": 44,
     "metadata": {},
     "output_type": "execute_result"
    }
   ],
   "source": [
    "all_df"
   ]
  },
  {
   "cell_type": "code",
   "execution_count": 40,
   "metadata": {},
   "outputs": [
    {
     "name": "stdout",
     "output_type": "stream",
     "text": [
      "Edit Distance:\n",
      "\n",
      "Edit Distance (Original)        7.428571\n",
      "Edit Distance (Reduce Noise)    6.714286\n",
      "dtype: float64\n"
     ]
    }
   ],
   "source": [
    "print(\"Edit Distance:\")\n",
    "print()\n",
    "print(all_df.mean(numeric_only=True))"
   ]
  },
  {
   "cell_type": "code",
   "execution_count": 25,
   "metadata": {},
   "outputs": [],
   "source": [
    "import requests\n",
    "import json\n",
    "import base64\n",
    "with open('spectral-gate/test_female1.wav', 'rb') as fh:\n",
    "  content = fh.read()\n",
    "\n",
    "res = requests.post(\n",
    "  'https://gowajee-api-mgmt.azure-api.net/speech/transcribe',\n",
    "  data=json.dumps(\n",
    "    {\"audioData\":base64.encodebytes(content).decode('utf-8')\n",
    "    }),\n",
    "  headers={\n",
    "    'Content-type': 'application/json',\n",
    "    'x-api-key':'8yYrTF/Ya97OBpRaKok9+pBeBjkXK6Wkl0j4dPHdrCs='\n",
    "  }\n",
    ") "
   ]
  },
  {
   "cell_type": "code",
   "execution_count": 26,
   "metadata": {},
   "outputs": [
    {
     "data": {
      "text/plain": [
       "<Response [413]>"
      ]
     },
     "execution_count": 26,
     "metadata": {},
     "output_type": "execute_result"
    }
   ],
   "source": [
    "res"
   ]
  },
  {
   "cell_type": "code",
   "execution_count": 27,
   "metadata": {},
   "outputs": [
    {
     "ename": "JSONDecodeError",
     "evalue": "[Errno Expecting value] <html>\r\n<head><title>413 Request Entity Too Large</title></head>\r\n<body>\r\n<center><h1>413 Request Entity Too Large</h1></center>\r\n<hr><center>nginx</center>\r\n</body>\r\n</html>\r\n: 0",
     "output_type": "error",
     "traceback": [
      "\u001b[1;31m---------------------------------------------------------------------------\u001b[0m",
      "\u001b[1;31mJSONDecodeError\u001b[0m                           Traceback (most recent call last)",
      "\u001b[1;32m~\\anaconda3\\envs\\dentist\\lib\\site-packages\\requests\\models.py\u001b[0m in \u001b[0;36mjson\u001b[1;34m(self, **kwargs)\u001b[0m\n\u001b[0;32m    909\u001b[0m         \u001b[1;32mtry\u001b[0m\u001b[1;33m:\u001b[0m\u001b[1;33m\u001b[0m\u001b[1;33m\u001b[0m\u001b[0m\n\u001b[1;32m--> 910\u001b[1;33m             \u001b[1;32mreturn\u001b[0m \u001b[0mcomplexjson\u001b[0m\u001b[1;33m.\u001b[0m\u001b[0mloads\u001b[0m\u001b[1;33m(\u001b[0m\u001b[0mself\u001b[0m\u001b[1;33m.\u001b[0m\u001b[0mtext\u001b[0m\u001b[1;33m,\u001b[0m \u001b[1;33m**\u001b[0m\u001b[0mkwargs\u001b[0m\u001b[1;33m)\u001b[0m\u001b[1;33m\u001b[0m\u001b[1;33m\u001b[0m\u001b[0m\n\u001b[0m\u001b[0;32m    911\u001b[0m         \u001b[1;32mexcept\u001b[0m \u001b[0mJSONDecodeError\u001b[0m \u001b[1;32mas\u001b[0m \u001b[0me\u001b[0m\u001b[1;33m:\u001b[0m\u001b[1;33m\u001b[0m\u001b[1;33m\u001b[0m\u001b[0m\n",
      "\u001b[1;32m~\\anaconda3\\envs\\dentist\\lib\\json\\__init__.py\u001b[0m in \u001b[0;36mloads\u001b[1;34m(s, encoding, cls, object_hook, parse_float, parse_int, parse_constant, object_pairs_hook, **kw)\u001b[0m\n\u001b[0;32m    347\u001b[0m             parse_constant is None and object_pairs_hook is None and not kw):\n\u001b[1;32m--> 348\u001b[1;33m         \u001b[1;32mreturn\u001b[0m \u001b[0m_default_decoder\u001b[0m\u001b[1;33m.\u001b[0m\u001b[0mdecode\u001b[0m\u001b[1;33m(\u001b[0m\u001b[0ms\u001b[0m\u001b[1;33m)\u001b[0m\u001b[1;33m\u001b[0m\u001b[1;33m\u001b[0m\u001b[0m\n\u001b[0m\u001b[0;32m    349\u001b[0m     \u001b[1;32mif\u001b[0m \u001b[0mcls\u001b[0m \u001b[1;32mis\u001b[0m \u001b[1;32mNone\u001b[0m\u001b[1;33m:\u001b[0m\u001b[1;33m\u001b[0m\u001b[1;33m\u001b[0m\u001b[0m\n",
      "\u001b[1;32m~\\anaconda3\\envs\\dentist\\lib\\json\\decoder.py\u001b[0m in \u001b[0;36mdecode\u001b[1;34m(self, s, _w)\u001b[0m\n\u001b[0;32m    336\u001b[0m         \"\"\"\n\u001b[1;32m--> 337\u001b[1;33m         \u001b[0mobj\u001b[0m\u001b[1;33m,\u001b[0m \u001b[0mend\u001b[0m \u001b[1;33m=\u001b[0m \u001b[0mself\u001b[0m\u001b[1;33m.\u001b[0m\u001b[0mraw_decode\u001b[0m\u001b[1;33m(\u001b[0m\u001b[0ms\u001b[0m\u001b[1;33m,\u001b[0m \u001b[0midx\u001b[0m\u001b[1;33m=\u001b[0m\u001b[0m_w\u001b[0m\u001b[1;33m(\u001b[0m\u001b[0ms\u001b[0m\u001b[1;33m,\u001b[0m \u001b[1;36m0\u001b[0m\u001b[1;33m)\u001b[0m\u001b[1;33m.\u001b[0m\u001b[0mend\u001b[0m\u001b[1;33m(\u001b[0m\u001b[1;33m)\u001b[0m\u001b[1;33m)\u001b[0m\u001b[1;33m\u001b[0m\u001b[1;33m\u001b[0m\u001b[0m\n\u001b[0m\u001b[0;32m    338\u001b[0m         \u001b[0mend\u001b[0m \u001b[1;33m=\u001b[0m \u001b[0m_w\u001b[0m\u001b[1;33m(\u001b[0m\u001b[0ms\u001b[0m\u001b[1;33m,\u001b[0m \u001b[0mend\u001b[0m\u001b[1;33m)\u001b[0m\u001b[1;33m.\u001b[0m\u001b[0mend\u001b[0m\u001b[1;33m(\u001b[0m\u001b[1;33m)\u001b[0m\u001b[1;33m\u001b[0m\u001b[1;33m\u001b[0m\u001b[0m\n",
      "\u001b[1;32m~\\anaconda3\\envs\\dentist\\lib\\json\\decoder.py\u001b[0m in \u001b[0;36mraw_decode\u001b[1;34m(self, s, idx)\u001b[0m\n\u001b[0;32m    354\u001b[0m         \u001b[1;32mexcept\u001b[0m \u001b[0mStopIteration\u001b[0m \u001b[1;32mas\u001b[0m \u001b[0merr\u001b[0m\u001b[1;33m:\u001b[0m\u001b[1;33m\u001b[0m\u001b[1;33m\u001b[0m\u001b[0m\n\u001b[1;32m--> 355\u001b[1;33m             \u001b[1;32mraise\u001b[0m \u001b[0mJSONDecodeError\u001b[0m\u001b[1;33m(\u001b[0m\u001b[1;34m\"Expecting value\"\u001b[0m\u001b[1;33m,\u001b[0m \u001b[0ms\u001b[0m\u001b[1;33m,\u001b[0m \u001b[0merr\u001b[0m\u001b[1;33m.\u001b[0m\u001b[0mvalue\u001b[0m\u001b[1;33m)\u001b[0m \u001b[1;32mfrom\u001b[0m \u001b[1;32mNone\u001b[0m\u001b[1;33m\u001b[0m\u001b[1;33m\u001b[0m\u001b[0m\n\u001b[0m\u001b[0;32m    356\u001b[0m         \u001b[1;32mreturn\u001b[0m \u001b[0mobj\u001b[0m\u001b[1;33m,\u001b[0m \u001b[0mend\u001b[0m\u001b[1;33m\u001b[0m\u001b[1;33m\u001b[0m\u001b[0m\n",
      "\u001b[1;31mJSONDecodeError\u001b[0m: Expecting value: line 1 column 1 (char 0)",
      "\nDuring handling of the above exception, another exception occurred:\n",
      "\u001b[1;31mJSONDecodeError\u001b[0m                           Traceback (most recent call last)",
      "\u001b[1;32m~\\AppData\\Local\\Temp/ipykernel_3504/1535127487.py\u001b[0m in \u001b[0;36m<module>\u001b[1;34m\u001b[0m\n\u001b[1;32m----> 1\u001b[1;33m \u001b[0mres\u001b[0m\u001b[1;33m.\u001b[0m\u001b[0mjson\u001b[0m\u001b[1;33m(\u001b[0m\u001b[1;33m)\u001b[0m\u001b[1;33m\u001b[0m\u001b[1;33m\u001b[0m\u001b[0m\n\u001b[0m",
      "\u001b[1;32m~\\anaconda3\\envs\\dentist\\lib\\site-packages\\requests\\models.py\u001b[0m in \u001b[0;36mjson\u001b[1;34m(self, **kwargs)\u001b[0m\n\u001b[0;32m    915\u001b[0m                 \u001b[1;32mraise\u001b[0m \u001b[0mRequestsJSONDecodeError\u001b[0m\u001b[1;33m(\u001b[0m\u001b[0me\u001b[0m\u001b[1;33m.\u001b[0m\u001b[0mmessage\u001b[0m\u001b[1;33m)\u001b[0m\u001b[1;33m\u001b[0m\u001b[1;33m\u001b[0m\u001b[0m\n\u001b[0;32m    916\u001b[0m             \u001b[1;32melse\u001b[0m\u001b[1;33m:\u001b[0m\u001b[1;33m\u001b[0m\u001b[1;33m\u001b[0m\u001b[0m\n\u001b[1;32m--> 917\u001b[1;33m                 \u001b[1;32mraise\u001b[0m \u001b[0mRequestsJSONDecodeError\u001b[0m\u001b[1;33m(\u001b[0m\u001b[0me\u001b[0m\u001b[1;33m.\u001b[0m\u001b[0mmsg\u001b[0m\u001b[1;33m,\u001b[0m \u001b[0me\u001b[0m\u001b[1;33m.\u001b[0m\u001b[0mdoc\u001b[0m\u001b[1;33m,\u001b[0m \u001b[0me\u001b[0m\u001b[1;33m.\u001b[0m\u001b[0mpos\u001b[0m\u001b[1;33m)\u001b[0m\u001b[1;33m\u001b[0m\u001b[1;33m\u001b[0m\u001b[0m\n\u001b[0m\u001b[0;32m    918\u001b[0m \u001b[1;33m\u001b[0m\u001b[0m\n\u001b[0;32m    919\u001b[0m     \u001b[1;33m@\u001b[0m\u001b[0mproperty\u001b[0m\u001b[1;33m\u001b[0m\u001b[1;33m\u001b[0m\u001b[0m\n",
      "\u001b[1;31mJSONDecodeError\u001b[0m: [Errno Expecting value] <html>\r\n<head><title>413 Request Entity Too Large</title></head>\r\n<body>\r\n<center><h1>413 Request Entity Too Large</h1></center>\r\n<hr><center>nginx</center>\r\n</body>\r\n</html>\r\n: 0"
     ]
    }
   ],
   "source": [
    "res.json()"
   ]
  },
  {
   "cell_type": "code",
   "execution_count": null,
   "metadata": {},
   "outputs": [],
   "source": []
  },
  {
   "cell_type": "markdown",
   "metadata": {},
   "source": [
    "## Fine Tune Spectral Gating"
   ]
  },
  {
   "cell_type": "code",
   "execution_count": 55,
   "metadata": {},
   "outputs": [
    {
     "name": "stdout",
     "output_type": "stream",
     "text": [
      "Iter: 0\n",
      "{'stationary': True, 'time_constant_s': 1.5, 'freq_mask_smooth_hz': 500, 'time_mask_smooth_ms': 75, 'thresh_n_mult_nonstationary': 0.5, 'sigmoid_slope_nonstationary': 7, 'n_fft': 1024}\n",
      "Edit Distance of spectral-gate-volume: 10.256410256410257\n",
      "Edit Distance of spectral-gate-tune: 12.820512820512821\n",
      "\n",
      "Iter: 1\n",
      "{'stationary': True, 'time_constant_s': 1.5, 'freq_mask_smooth_hz': 250, 'time_mask_smooth_ms': 25, 'thresh_n_mult_nonstationary': 1.5, 'sigmoid_slope_nonstationary': 7, 'n_fft': 512}\n",
      "Edit Distance of spectral-gate-volume: 10.256410256410257\n",
      "Edit Distance of spectral-gate-tune: 11.58974358974359\n",
      "\n",
      "Iter: 2\n",
      "{'stationary': False, 'time_constant_s': 2, 'freq_mask_smooth_hz': 750, 'time_mask_smooth_ms': 25, 'thresh_n_mult_nonstationary': 1, 'sigmoid_slope_nonstationary': 7, 'n_fft': 512}\n",
      "Edit Distance of spectral-gate-volume: 10.256410256410257\n",
      "Edit Distance of spectral-gate-tune: 7.871794871794871\n",
      "\n",
      "Iter: 3\n",
      "{'stationary': True, 'time_constant_s': 2, 'freq_mask_smooth_hz': 250, 'time_mask_smooth_ms': 75, 'thresh_n_mult_nonstationary': 1, 'sigmoid_slope_nonstationary': 7, 'n_fft': 512}\n",
      "Edit Distance of spectral-gate-volume: 10.256410256410257\n",
      "Edit Distance of spectral-gate-tune: 11.923076923076923\n",
      "\n",
      "Iter: 4\n",
      "{'stationary': False, 'time_constant_s': 2, 'freq_mask_smooth_hz': 250, 'time_mask_smooth_ms': 50, 'thresh_n_mult_nonstationary': 0.5, 'sigmoid_slope_nonstationary': 10, 'n_fft': 1024}\n",
      "Edit Distance of spectral-gate-volume: 10.256410256410257\n",
      "Edit Distance of spectral-gate-tune: 5.641025641025641\n",
      "\n",
      "Iter: 5\n",
      "{'stationary': True, 'time_constant_s': 2, 'freq_mask_smooth_hz': 500, 'time_mask_smooth_ms': 50, 'thresh_n_mult_nonstationary': 1, 'sigmoid_slope_nonstationary': 13, 'n_fft': 1024}\n",
      "Edit Distance of spectral-gate-volume: 10.256410256410257\n",
      "Edit Distance of spectral-gate-tune: 12.333333333333334\n",
      "\n",
      "Iter: 6\n",
      "{'stationary': False, 'time_constant_s': 1, 'freq_mask_smooth_hz': 500, 'time_mask_smooth_ms': 75, 'thresh_n_mult_nonstationary': 1.5, 'sigmoid_slope_nonstationary': 10, 'n_fft': 512}\n",
      "Edit Distance of spectral-gate-volume: 10.256410256410257\n",
      "Edit Distance of spectral-gate-tune: 10.820512820512821\n",
      "\n",
      "Iter: 7\n",
      "{'stationary': True, 'time_constant_s': 1, 'freq_mask_smooth_hz': 250, 'time_mask_smooth_ms': 25, 'thresh_n_mult_nonstationary': 1.5, 'sigmoid_slope_nonstationary': 7, 'n_fft': 1024}\n",
      "Edit Distance of spectral-gate-volume: 10.256410256410257\n",
      "Edit Distance of spectral-gate-tune: 10.717948717948717\n",
      "\n",
      "Iter: 8\n",
      "{'stationary': False, 'time_constant_s': 2, 'freq_mask_smooth_hz': 250, 'time_mask_smooth_ms': 50, 'thresh_n_mult_nonstationary': 0.5, 'sigmoid_slope_nonstationary': 13, 'n_fft': 1024}\n",
      "Edit Distance of spectral-gate-volume: 10.256410256410257\n",
      "Edit Distance of spectral-gate-tune: 6.102564102564102\n",
      "\n",
      "Iter: 9\n",
      "{'stationary': True, 'time_constant_s': 1, 'freq_mask_smooth_hz': 500, 'time_mask_smooth_ms': 50, 'thresh_n_mult_nonstationary': 1.5, 'sigmoid_slope_nonstationary': 10, 'n_fft': 1024}\n",
      "Edit Distance of spectral-gate-volume: 10.256410256410257\n",
      "Edit Distance of spectral-gate-tune: 12.333333333333334\n",
      "\n"
     ]
    }
   ],
   "source": [
    "filenames = ['test_male1', 'test_male2', 'test_male3', 'test_female1', 'test_female2', 'test_female3']\n",
    "config_space = {\n",
    "  'stationary': [True, False], \n",
    "  'time_constant_s': [1, 1.5, 2],\n",
    "  'freq_mask_smooth_hz': [250, 500, 750],\n",
    "  'time_mask_smooth_ms': [25, 50, 75],\n",
    "  'thresh_n_mult_nonstationary': [0.5, 1, 1.5],\n",
    "  'sigmoid_slope_nonstationary': [7, 10, 13],\n",
    "  'n_fft': [512, 1024]\n",
    "}\n",
    "\n",
    "for iter in range(10):\n",
    "  config = dict(map(lambda kv: (kv[0], random.choice(kv[1])), config_space.items()))\n",
    "  print(\"Iter:\", iter)\n",
    "  print(config)\n",
    "  filenames = ['test_male1', 'test_male2', 'test_male3', 'test_female1', 'test_female2', 'test_female3']\n",
    "  for fn in filenames:\n",
    "    origin_path = os.path.join(os.path.join('shortAudio', 'original'), fn)\n",
    "    origin_filenames = os.listdir(origin_path)\n",
    "\n",
    "    for origin_f in origin_filenames:\n",
    "      audio_path = os.path.join(origin_path, origin_f)\n",
    "      output_path = os.path.join(os.path.join('shortAudio', 'spectral-gate-tune'), fn)\n",
    "      SpectralGate(audio_path, output_path, increase_volume=True, config=config)\n",
    "\n",
    "  modes = ['spectral-gate-tune']\n",
    "  idx = 0\n",
    "  mode = modes[idx]\n",
    "  \n",
    "  for f in filenames:\n",
    "      basepath = f'shortAudio/{mode}/{f}'\n",
    "      predicted = []\n",
    "      for fn in os.listdir(basepath):\n",
    "          filepath = os.path.join(basepath, fn)\n",
    "          try:\n",
    "              response = Speech2TextAPI(filepath)\n",
    "              text = response['results'][0]['transcript']\n",
    "          except:\n",
    "              text = response['results'][0]['transcript']\n",
    "          predicted.append(text)\n",
    "      df_label = pd.read_csv(f'label/{f}.csv')\n",
    "      data = {'Label': df_label['Label'], 'Predicted': predicted}\n",
    "      df = pd.DataFrame(data)\n",
    "      df.to_csv(f'predicted/{mode}/{f}.csv', index=False)\n",
    "\n",
    "  basepath = 'predicted'\n",
    "  folder = ['spectral-gate-volume', 'spectral-gate-tune']\n",
    "  edit_df = []\n",
    "\n",
    "  for f in folder:\n",
    "    path = os.path.join(basepath, f)\n",
    "    filenames = os.listdir(path)\n",
    "    li = []\n",
    "    for fn in filenames:\n",
    "      # print(fn)\n",
    "      filepath = os.path.join(path, fn)\n",
    "      df = pd.read_csv(filepath)\n",
    "      mask = df['Predicted'] == 'Internal Server Error: 0'\n",
    "      df = df[~mask]\n",
    "      df['Edit Distance'] = df.apply(lambda x: edit_distance(x['Label'], x['Predicted']), axis=1) \n",
    "      if fn == 'test_female1.csv':\n",
    "        try:\n",
    "          df = df.drop(labels=[0, 1], axis=0)\n",
    "        except:\n",
    "          pass\n",
    "      elif fn == 'test_male3.csv':\n",
    "        try:\n",
    "          df = df.drop(labels=[0], axis=0)\n",
    "        except:\n",
    "          pass\n",
    "      li.append(df)\n",
    "    df = pd.concat(li, keys=filenames)\n",
    "    edit_df.append(df)\n",
    "\n",
    "  for idx, mode in enumerate(folder):\n",
    "    print(f\"Edit Distance of {mode}:\", edit_df[idx]['Edit Distance'].mean())\n",
    "\n",
    "  print()"
   ]
  },
  {
   "cell_type": "code",
   "execution_count": 33,
   "metadata": {},
   "outputs": [],
   "source": [
    "best_config = {\n",
    "  'stationary': False, \n",
    "  'time_constant_s': 2, \n",
    "  'freq_mask_smooth_hz': 250, \n",
    "  'time_mask_smooth_ms': 50, \n",
    "  'thresh_n_mult_nonstationary': 0.5, \n",
    "  'sigmoid_slope_nonstationary': 10, \n",
    "  'n_fft': 1024\n",
    "}"
   ]
  },
  {
   "cell_type": "code",
   "execution_count": 66,
   "metadata": {},
   "outputs": [],
   "source": [
    "for fn in filenames:\n",
    "  origin_path = os.path.join(os.path.join('shortAudio', 'original'), fn)\n",
    "  origin_filenames = np.array(os.listdir(origin_path))\n",
    "  mask = np.argsort(np.array(list(map(lambda x: int(x.split('_')[-1][:-4]), origin_filenames))))\n",
    "\n",
    "  for origin_f in origin_filenames:\n",
    "    audio_path = os.path.join(origin_path, origin_f)\n",
    "    output_path = os.path.join(os.path.join('shortAudio', 'spectral-gate-tune'), fn)\n",
    "    SpectralGate(audio_path, output_path, increase_volume=True, config=best_config)"
   ]
  },
  {
   "cell_type": "code",
   "execution_count": 9,
   "metadata": {},
   "outputs": [
    {
     "name": "stdout",
     "output_type": "stream",
     "text": [
      "{'stationary': False, 'time_constant_s': 2, 'freq_mask_smooth_hz': 250, 'time_mask_smooth_ms': 50, 'thresh_n_mult_nonstationary': 0.5, 'sigmoid_slope_nonstationary': 10, 'n_fft': 1024}\n"
     ]
    },
    {
     "ename": "AttributeError",
     "evalue": "'float' object has no attribute 'replace'",
     "output_type": "error",
     "traceback": [
      "\u001b[1;31m---------------------------------------------------------------------------\u001b[0m",
      "\u001b[1;31mAttributeError\u001b[0m                            Traceback (most recent call last)",
      "\u001b[1;32m~\\AppData\\Local\\Temp/ipykernel_19304/669885062.py\u001b[0m in \u001b[0;36m<module>\u001b[1;34m\u001b[0m\n\u001b[0;32m     54\u001b[0m     \u001b[0mmask\u001b[0m \u001b[1;33m=\u001b[0m \u001b[0mdf\u001b[0m\u001b[1;33m[\u001b[0m\u001b[1;34m'Predicted'\u001b[0m\u001b[1;33m]\u001b[0m \u001b[1;33m==\u001b[0m \u001b[1;34m'Internal Server Error: 0'\u001b[0m\u001b[1;33m\u001b[0m\u001b[1;33m\u001b[0m\u001b[0m\n\u001b[0;32m     55\u001b[0m     \u001b[0mdf\u001b[0m \u001b[1;33m=\u001b[0m \u001b[0mdf\u001b[0m\u001b[1;33m[\u001b[0m\u001b[1;33m~\u001b[0m\u001b[0mmask\u001b[0m\u001b[1;33m]\u001b[0m\u001b[1;33m\u001b[0m\u001b[1;33m\u001b[0m\u001b[0m\n\u001b[1;32m---> 56\u001b[1;33m     \u001b[0mdf\u001b[0m\u001b[1;33m[\u001b[0m\u001b[1;34m'Edit Distance'\u001b[0m\u001b[1;33m]\u001b[0m \u001b[1;33m=\u001b[0m \u001b[0mdf\u001b[0m\u001b[1;33m.\u001b[0m\u001b[0mapply\u001b[0m\u001b[1;33m(\u001b[0m\u001b[1;32mlambda\u001b[0m \u001b[0mx\u001b[0m\u001b[1;33m:\u001b[0m \u001b[0medit_distance\u001b[0m\u001b[1;33m(\u001b[0m\u001b[0mx\u001b[0m\u001b[1;33m[\u001b[0m\u001b[1;34m'Label'\u001b[0m\u001b[1;33m]\u001b[0m\u001b[1;33m,\u001b[0m \u001b[0mx\u001b[0m\u001b[1;33m[\u001b[0m\u001b[1;34m'Predicted'\u001b[0m\u001b[1;33m]\u001b[0m\u001b[1;33m)\u001b[0m\u001b[1;33m,\u001b[0m \u001b[0maxis\u001b[0m\u001b[1;33m=\u001b[0m\u001b[1;36m1\u001b[0m\u001b[1;33m)\u001b[0m\u001b[1;33m\u001b[0m\u001b[1;33m\u001b[0m\u001b[0m\n\u001b[0m\u001b[0;32m     57\u001b[0m     \u001b[1;32mif\u001b[0m \u001b[0mfn\u001b[0m \u001b[1;33m==\u001b[0m \u001b[1;34m'test_female1.csv'\u001b[0m\u001b[1;33m:\u001b[0m\u001b[1;33m\u001b[0m\u001b[1;33m\u001b[0m\u001b[0m\n\u001b[0;32m     58\u001b[0m       \u001b[1;32mtry\u001b[0m\u001b[1;33m:\u001b[0m\u001b[1;33m\u001b[0m\u001b[1;33m\u001b[0m\u001b[0m\n",
      "\u001b[1;32m~\\anaconda3\\envs\\dentist\\lib\\site-packages\\pandas\\core\\frame.py\u001b[0m in \u001b[0;36mapply\u001b[1;34m(self, func, axis, raw, result_type, args, **kwargs)\u001b[0m\n\u001b[0;32m   8738\u001b[0m             \u001b[0mkwargs\u001b[0m\u001b[1;33m=\u001b[0m\u001b[0mkwargs\u001b[0m\u001b[1;33m,\u001b[0m\u001b[1;33m\u001b[0m\u001b[1;33m\u001b[0m\u001b[0m\n\u001b[0;32m   8739\u001b[0m         )\n\u001b[1;32m-> 8740\u001b[1;33m         \u001b[1;32mreturn\u001b[0m \u001b[0mop\u001b[0m\u001b[1;33m.\u001b[0m\u001b[0mapply\u001b[0m\u001b[1;33m(\u001b[0m\u001b[1;33m)\u001b[0m\u001b[1;33m\u001b[0m\u001b[1;33m\u001b[0m\u001b[0m\n\u001b[0m\u001b[0;32m   8741\u001b[0m \u001b[1;33m\u001b[0m\u001b[0m\n\u001b[0;32m   8742\u001b[0m     def applymap(\n",
      "\u001b[1;32m~\\anaconda3\\envs\\dentist\\lib\\site-packages\\pandas\\core\\apply.py\u001b[0m in \u001b[0;36mapply\u001b[1;34m(self)\u001b[0m\n\u001b[0;32m    686\u001b[0m             \u001b[1;32mreturn\u001b[0m \u001b[0mself\u001b[0m\u001b[1;33m.\u001b[0m\u001b[0mapply_raw\u001b[0m\u001b[1;33m(\u001b[0m\u001b[1;33m)\u001b[0m\u001b[1;33m\u001b[0m\u001b[1;33m\u001b[0m\u001b[0m\n\u001b[0;32m    687\u001b[0m \u001b[1;33m\u001b[0m\u001b[0m\n\u001b[1;32m--> 688\u001b[1;33m         \u001b[1;32mreturn\u001b[0m \u001b[0mself\u001b[0m\u001b[1;33m.\u001b[0m\u001b[0mapply_standard\u001b[0m\u001b[1;33m(\u001b[0m\u001b[1;33m)\u001b[0m\u001b[1;33m\u001b[0m\u001b[1;33m\u001b[0m\u001b[0m\n\u001b[0m\u001b[0;32m    689\u001b[0m \u001b[1;33m\u001b[0m\u001b[0m\n\u001b[0;32m    690\u001b[0m     \u001b[1;32mdef\u001b[0m \u001b[0magg\u001b[0m\u001b[1;33m(\u001b[0m\u001b[0mself\u001b[0m\u001b[1;33m)\u001b[0m\u001b[1;33m:\u001b[0m\u001b[1;33m\u001b[0m\u001b[1;33m\u001b[0m\u001b[0m\n",
      "\u001b[1;32m~\\anaconda3\\envs\\dentist\\lib\\site-packages\\pandas\\core\\apply.py\u001b[0m in \u001b[0;36mapply_standard\u001b[1;34m(self)\u001b[0m\n\u001b[0;32m    810\u001b[0m \u001b[1;33m\u001b[0m\u001b[0m\n\u001b[0;32m    811\u001b[0m     \u001b[1;32mdef\u001b[0m \u001b[0mapply_standard\u001b[0m\u001b[1;33m(\u001b[0m\u001b[0mself\u001b[0m\u001b[1;33m)\u001b[0m\u001b[1;33m:\u001b[0m\u001b[1;33m\u001b[0m\u001b[1;33m\u001b[0m\u001b[0m\n\u001b[1;32m--> 812\u001b[1;33m         \u001b[0mresults\u001b[0m\u001b[1;33m,\u001b[0m \u001b[0mres_index\u001b[0m \u001b[1;33m=\u001b[0m \u001b[0mself\u001b[0m\u001b[1;33m.\u001b[0m\u001b[0mapply_series_generator\u001b[0m\u001b[1;33m(\u001b[0m\u001b[1;33m)\u001b[0m\u001b[1;33m\u001b[0m\u001b[1;33m\u001b[0m\u001b[0m\n\u001b[0m\u001b[0;32m    813\u001b[0m \u001b[1;33m\u001b[0m\u001b[0m\n\u001b[0;32m    814\u001b[0m         \u001b[1;31m# wrap results\u001b[0m\u001b[1;33m\u001b[0m\u001b[1;33m\u001b[0m\u001b[1;33m\u001b[0m\u001b[0m\n",
      "\u001b[1;32m~\\anaconda3\\envs\\dentist\\lib\\site-packages\\pandas\\core\\apply.py\u001b[0m in \u001b[0;36mapply_series_generator\u001b[1;34m(self)\u001b[0m\n\u001b[0;32m    826\u001b[0m             \u001b[1;32mfor\u001b[0m \u001b[0mi\u001b[0m\u001b[1;33m,\u001b[0m \u001b[0mv\u001b[0m \u001b[1;32min\u001b[0m \u001b[0menumerate\u001b[0m\u001b[1;33m(\u001b[0m\u001b[0mseries_gen\u001b[0m\u001b[1;33m)\u001b[0m\u001b[1;33m:\u001b[0m\u001b[1;33m\u001b[0m\u001b[1;33m\u001b[0m\u001b[0m\n\u001b[0;32m    827\u001b[0m                 \u001b[1;31m# ignore SettingWithCopy here in case the user mutates\u001b[0m\u001b[1;33m\u001b[0m\u001b[1;33m\u001b[0m\u001b[1;33m\u001b[0m\u001b[0m\n\u001b[1;32m--> 828\u001b[1;33m                 \u001b[0mresults\u001b[0m\u001b[1;33m[\u001b[0m\u001b[0mi\u001b[0m\u001b[1;33m]\u001b[0m \u001b[1;33m=\u001b[0m \u001b[0mself\u001b[0m\u001b[1;33m.\u001b[0m\u001b[0mf\u001b[0m\u001b[1;33m(\u001b[0m\u001b[0mv\u001b[0m\u001b[1;33m)\u001b[0m\u001b[1;33m\u001b[0m\u001b[1;33m\u001b[0m\u001b[0m\n\u001b[0m\u001b[0;32m    829\u001b[0m                 \u001b[1;32mif\u001b[0m \u001b[0misinstance\u001b[0m\u001b[1;33m(\u001b[0m\u001b[0mresults\u001b[0m\u001b[1;33m[\u001b[0m\u001b[0mi\u001b[0m\u001b[1;33m]\u001b[0m\u001b[1;33m,\u001b[0m \u001b[0mABCSeries\u001b[0m\u001b[1;33m)\u001b[0m\u001b[1;33m:\u001b[0m\u001b[1;33m\u001b[0m\u001b[1;33m\u001b[0m\u001b[0m\n\u001b[0;32m    830\u001b[0m                     \u001b[1;31m# If we have a view on v, we need to make a copy because\u001b[0m\u001b[1;33m\u001b[0m\u001b[1;33m\u001b[0m\u001b[1;33m\u001b[0m\u001b[0m\n",
      "\u001b[1;32m~\\AppData\\Local\\Temp/ipykernel_19304/669885062.py\u001b[0m in \u001b[0;36m<lambda>\u001b[1;34m(x)\u001b[0m\n\u001b[0;32m     54\u001b[0m     \u001b[0mmask\u001b[0m \u001b[1;33m=\u001b[0m \u001b[0mdf\u001b[0m\u001b[1;33m[\u001b[0m\u001b[1;34m'Predicted'\u001b[0m\u001b[1;33m]\u001b[0m \u001b[1;33m==\u001b[0m \u001b[1;34m'Internal Server Error: 0'\u001b[0m\u001b[1;33m\u001b[0m\u001b[1;33m\u001b[0m\u001b[0m\n\u001b[0;32m     55\u001b[0m     \u001b[0mdf\u001b[0m \u001b[1;33m=\u001b[0m \u001b[0mdf\u001b[0m\u001b[1;33m[\u001b[0m\u001b[1;33m~\u001b[0m\u001b[0mmask\u001b[0m\u001b[1;33m]\u001b[0m\u001b[1;33m\u001b[0m\u001b[1;33m\u001b[0m\u001b[0m\n\u001b[1;32m---> 56\u001b[1;33m     \u001b[0mdf\u001b[0m\u001b[1;33m[\u001b[0m\u001b[1;34m'Edit Distance'\u001b[0m\u001b[1;33m]\u001b[0m \u001b[1;33m=\u001b[0m \u001b[0mdf\u001b[0m\u001b[1;33m.\u001b[0m\u001b[0mapply\u001b[0m\u001b[1;33m(\u001b[0m\u001b[1;32mlambda\u001b[0m \u001b[0mx\u001b[0m\u001b[1;33m:\u001b[0m \u001b[0medit_distance\u001b[0m\u001b[1;33m(\u001b[0m\u001b[0mx\u001b[0m\u001b[1;33m[\u001b[0m\u001b[1;34m'Label'\u001b[0m\u001b[1;33m]\u001b[0m\u001b[1;33m,\u001b[0m \u001b[0mx\u001b[0m\u001b[1;33m[\u001b[0m\u001b[1;34m'Predicted'\u001b[0m\u001b[1;33m]\u001b[0m\u001b[1;33m)\u001b[0m\u001b[1;33m,\u001b[0m \u001b[0maxis\u001b[0m\u001b[1;33m=\u001b[0m\u001b[1;36m1\u001b[0m\u001b[1;33m)\u001b[0m\u001b[1;33m\u001b[0m\u001b[1;33m\u001b[0m\u001b[0m\n\u001b[0m\u001b[0;32m     57\u001b[0m     \u001b[1;32mif\u001b[0m \u001b[0mfn\u001b[0m \u001b[1;33m==\u001b[0m \u001b[1;34m'test_female1.csv'\u001b[0m\u001b[1;33m:\u001b[0m\u001b[1;33m\u001b[0m\u001b[1;33m\u001b[0m\u001b[0m\n\u001b[0;32m     58\u001b[0m       \u001b[1;32mtry\u001b[0m\u001b[1;33m:\u001b[0m\u001b[1;33m\u001b[0m\u001b[1;33m\u001b[0m\u001b[0m\n",
      "\u001b[1;32mc:\\Users\\user\\Desktop\\Dentist\\utils\\evaluate.py\u001b[0m in \u001b[0;36medit_distance\u001b[1;34m(a, b)\u001b[0m\n\u001b[0;32m      2\u001b[0m \u001b[1;33m\u001b[0m\u001b[0m\n\u001b[0;32m      3\u001b[0m \u001b[1;32mdef\u001b[0m \u001b[0medit_distance\u001b[0m\u001b[1;33m(\u001b[0m\u001b[0ma\u001b[0m\u001b[1;33m,\u001b[0m \u001b[0mb\u001b[0m\u001b[1;33m)\u001b[0m\u001b[1;33m:\u001b[0m\u001b[1;33m\u001b[0m\u001b[1;33m\u001b[0m\u001b[0m\n\u001b[1;32m----> 4\u001b[1;33m   \u001b[0ma\u001b[0m \u001b[1;33m=\u001b[0m \u001b[0ma\u001b[0m\u001b[1;33m.\u001b[0m\u001b[0mreplace\u001b[0m\u001b[1;33m(\u001b[0m\u001b[1;34m' '\u001b[0m\u001b[1;33m,\u001b[0m \u001b[1;34m''\u001b[0m\u001b[1;33m)\u001b[0m\u001b[1;33m\u001b[0m\u001b[1;33m\u001b[0m\u001b[0m\n\u001b[0m\u001b[0;32m      5\u001b[0m   \u001b[0mb\u001b[0m \u001b[1;33m=\u001b[0m \u001b[0mb\u001b[0m\u001b[1;33m.\u001b[0m\u001b[0mreplace\u001b[0m\u001b[1;33m(\u001b[0m\u001b[1;34m' '\u001b[0m\u001b[1;33m,\u001b[0m \u001b[1;34m''\u001b[0m\u001b[1;33m)\u001b[0m\u001b[1;33m\u001b[0m\u001b[1;33m\u001b[0m\u001b[0m\n\u001b[0;32m      6\u001b[0m   \u001b[0mlen_a\u001b[0m\u001b[1;33m,\u001b[0m \u001b[0mlen_b\u001b[0m \u001b[1;33m=\u001b[0m \u001b[0mlen\u001b[0m\u001b[1;33m(\u001b[0m\u001b[0ma\u001b[0m\u001b[1;33m)\u001b[0m\u001b[1;33m,\u001b[0m \u001b[0mlen\u001b[0m\u001b[1;33m(\u001b[0m\u001b[0mb\u001b[0m\u001b[1;33m)\u001b[0m\u001b[1;33m\u001b[0m\u001b[1;33m\u001b[0m\u001b[0m\n",
      "\u001b[1;31mAttributeError\u001b[0m: 'float' object has no attribute 'replace'"
     ]
    }
   ],
   "source": [
    "config = {\n",
    "  'stationary': False, \n",
    "  'time_constant_s': 2, \n",
    "  'freq_mask_smooth_hz': 250, \n",
    "  'time_mask_smooth_ms': 50, \n",
    "  'thresh_n_mult_nonstationary': 0.5, \n",
    "  'sigmoid_slope_nonstationary': 10, \n",
    "  'n_fft': 1024\n",
    "}\n",
    "\n",
    "print(config)\n",
    "filenames = ['test_male1', 'test_male2', 'test_male3', 'test_female1', 'test_female2', 'test_female3', 'voice_command1']\n",
    "for fn in filenames:\n",
    "  origin_path = os.path.join(os.path.join('shortAudio', 'original'), fn)\n",
    "  origin_filenames = os.listdir(origin_path)\n",
    "\n",
    "  for origin_f in origin_filenames:\n",
    "    audio_path = os.path.join(origin_path, origin_f)\n",
    "    output_path = os.path.join(os.path.join('shortAudio', 'spectral-gate-tune'), fn)\n",
    "    SpectralGate(audio_path, output_path, increase_volume=True, config=config)\n",
    "\n",
    "modes = ['spectral-gate-tune']\n",
    "idx = 0\n",
    "mode = modes[idx]\n",
    "\n",
    "for f in filenames:\n",
    "    basepath = f'shortAudio/{mode}/{f}'\n",
    "    predicted = []\n",
    "    for fn in os.listdir(basepath):\n",
    "        filepath = os.path.join(basepath, fn)\n",
    "        try:\n",
    "            response = Speech2TextAPI(filepath)\n",
    "            text = response['results'][0]['transcript']\n",
    "        except:\n",
    "            text = response['results'][0]['transcript']\n",
    "        predicted.append(text)\n",
    "    df_label = pd.read_csv(f'label/{f}.csv')\n",
    "    data = {'Label': df_label['Label'], 'Predicted': predicted}\n",
    "    df = pd.DataFrame(data)\n",
    "    df.to_csv(f'predicted/{mode}/{f}.csv', index=False)\n",
    "\n",
    "basepath = 'predicted'\n",
    "folder = ['spectral-gate-volume', 'spectral-gate-tune']\n",
    "edit_df = []\n",
    "\n",
    "for f in folder:\n",
    "  path = os.path.join(basepath, f)\n",
    "  filenames = os.listdir(path)\n",
    "  li = []\n",
    "  for fn in filenames:\n",
    "    # print(fn)\n",
    "    filepath = os.path.join(path, fn)\n",
    "    df = pd.read_csv(filepath)\n",
    "    mask = df['Predicted'] == 'Internal Server Error: 0'\n",
    "    df = df[~mask]\n",
    "    df['Edit Distance'] = df.apply(lambda x: edit_distance(x['Label'], x['Predicted']), axis=1) \n",
    "    if fn == 'test_female1.csv':\n",
    "      try:\n",
    "        df = df.drop(labels=[0, 1], axis=0)\n",
    "      except:\n",
    "        pass\n",
    "    elif fn == 'test_male3.csv':\n",
    "      try:\n",
    "        df = df.drop(labels=[0], axis=0)\n",
    "      except:\n",
    "        pass\n",
    "    li.append(df)\n",
    "  df = pd.concat(li, keys=filenames)\n",
    "  edit_df.append(df)\n",
    "\n",
    "for idx, mode in enumerate(folder):\n",
    "  print(f\"Edit Distance of {mode}:\", edit_df[idx]['Edit Distance'].mean())\n",
    "\n",
    "print()"
   ]
  },
  {
   "cell_type": "code",
   "execution_count": null,
   "metadata": {},
   "outputs": [],
   "source": []
  }
 ],
 "metadata": {
  "interpreter": {
   "hash": "de2fe0e4e7d59025aa177fa31d966502f9ce5d9ae3e4300ffed57b844fbc10f9"
  },
  "kernelspec": {
   "display_name": "Python 3.7.11 ('dentist')",
   "language": "python",
   "name": "python3"
  },
  "language_info": {
   "codemirror_mode": {
    "name": "ipython",
    "version": 3
   },
   "file_extension": ".py",
   "mimetype": "text/x-python",
   "name": "python",
   "nbconvert_exporter": "python",
   "pygments_lexer": "ipython3",
   "version": "3.7.11"
  },
  "orig_nbformat": 4
 },
 "nbformat": 4,
 "nbformat_minor": 2
}
